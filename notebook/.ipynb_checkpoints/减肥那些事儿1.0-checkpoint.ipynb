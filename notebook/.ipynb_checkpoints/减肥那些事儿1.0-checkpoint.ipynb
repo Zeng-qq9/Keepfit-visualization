{
 "cells": [
  {
   "cell_type": "markdown",
   "metadata": {},
   "source": [
    "\n",
    "<center><font size=6 >                      减肥那些事儿</font></center>   "
   ]
  },
  {
   "cell_type": "markdown",
   "metadata": {},
   "source": [
    "                                                                                             小组成员：曾清清，李雯倩，孙天宇，张思蒙"
   ]
  },
  {
   "cell_type": "markdown",
   "metadata": {},
   "source": [
    "## 一、 实验准备\n",
    "### 1.1 实验概述\n",
    "\n",
    "\n",
    "目前在中国，有40%以上的人属于肥胖人群，在中国身体超重的人数最少有4个亿左右，即使除去男性，需要减肥的女孩子最少在2个亿以上……\n",
    "2017年，英国医学杂志《柳叶刀》发表的关于全球成年人体重调查报告显示，中国肥胖人数已超过美国，成为全球胖子最多的国家。\n",
    "减肥这一话题一直备受关注，所以我们组选择对与减肥相关的一些有意思的数据进行分析展示，来聊聊减肥那些事儿。\n",
    "\n",
    "\n",
    "### 1.2 实验目的\n",
    "\n",
    "掌握numpy模块以及pandas模块的常用方法\n",
    "\n",
    "### 1.3 项目开发准备\n",
    "服务器端：python3.6以上、Numpy、Pandas、Jupyter Notebook  \n",
    "客户端：Google Chrome浏览器\n"
   ]
  },
  {
   "cell_type": "markdown",
   "metadata": {},
   "source": [
    "## 二、 实验准备"
   ]
  },
  {
   "cell_type": "markdown",
   "metadata": {},
   "source": [
    "### 2.1 导入所需包，并加载数据集"
   ]
  },
  {
   "cell_type": "code",
   "execution_count": 2,
   "metadata": {},
   "outputs": [],
   "source": [
    "from pyecharts import options as opts\n",
    "from pyecharts.charts import Map\n",
    "import pandas as pd\n",
    "import numpy as np\n",
    "import matplotlib.pyplot as plt\n",
    "import seaborn as sns\n",
    "from IPython.display import Image"
   ]
  },
  {
   "cell_type": "markdown",
   "metadata": {},
   "source": [
    "### 2.2 导入数据，查看数据"
   ]
  },
  {
   "cell_type": "markdown",
   "metadata": {},
   "source": [
    "数据来源\n",
    "```python\n",
    "1.网易数读\n",
    "2.薄荷网http://www.boohee.com/sports/view/jichuyinshi\n",
    "3.人民网微博用户研究中心\n",
    "4.中商情报网\n",
    "```\n",
    "简单说明\n",
    "```python\n",
    "本项目数据来源于网络，通过对与减肥相关的热点问题饮食运动等方面，进行整理分析。```"
   ]
  },
  {
   "cell_type": "markdown",
   "metadata": {},
   "source": [
    "导入所需的所有数据库并显示前三行\n",
    "```python\n",
    "df = pd.read_excel(\"中国南北肥胖情况.xlsx\")\n",
    "df.head(3)\n",
    "df2 = pd.read_excel(\"饮食方面.xlsx\")\n",
    "df2.head(3)\n",
    "df3 = pd.read_excel(\"男女对比.xlsx\")\n",
    "df3.head(3)\n",
    "df4 = pd.read_excel(\"运动方面.xlsx\")\n",
    "df4.head(3)```"
   ]
  },
  {
   "cell_type": "code",
   "execution_count": 3,
   "metadata": {
    "scrolled": true
   },
   "outputs": [
    {
     "data": {
      "text/html": [
       "<div>\n",
       "<style scoped>\n",
       "    .dataframe tbody tr th:only-of-type {\n",
       "        vertical-align: middle;\n",
       "    }\n",
       "\n",
       "    .dataframe tbody tr th {\n",
       "        vertical-align: top;\n",
       "    }\n",
       "\n",
       "    .dataframe thead th {\n",
       "        text-align: right;\n",
       "    }\n",
       "</style>\n",
       "<table border=\"1\" class=\"dataframe\">\n",
       "  <thead>\n",
       "    <tr style=\"text-align: right;\">\n",
       "      <th></th>\n",
       "      <th>省份</th>\n",
       "      <th>肥胖率</th>\n",
       "    </tr>\n",
       "  </thead>\n",
       "  <tbody>\n",
       "    <tr>\n",
       "      <th>0</th>\n",
       "      <td>宁夏</td>\n",
       "      <td>11.4</td>\n",
       "    </tr>\n",
       "    <tr>\n",
       "      <th>1</th>\n",
       "      <td>湖南</td>\n",
       "      <td>12.2</td>\n",
       "    </tr>\n",
       "    <tr>\n",
       "      <th>2</th>\n",
       "      <td>上海</td>\n",
       "      <td>11.0</td>\n",
       "    </tr>\n",
       "  </tbody>\n",
       "</table>\n",
       "</div>"
      ],
      "text/plain": [
       "   省份   肥胖率\n",
       "0  宁夏  11.4\n",
       "1  湖南  12.2\n",
       "2  上海  11.0"
      ]
     },
     "execution_count": 3,
     "metadata": {},
     "output_type": "execute_result"
    }
   ],
   "source": [
    "df1= pd.read_excel(\"中国南北肥胖情况.xlsx\")\n",
    "df1.head(3)"
   ]
  },
  {
   "cell_type": "code",
   "execution_count": 4,
   "metadata": {},
   "outputs": [
    {
     "data": {
      "text/html": [
       "<div>\n",
       "<style scoped>\n",
       "    .dataframe tbody tr th:only-of-type {\n",
       "        vertical-align: middle;\n",
       "    }\n",
       "\n",
       "    .dataframe tbody tr th {\n",
       "        vertical-align: top;\n",
       "    }\n",
       "\n",
       "    .dataframe thead th {\n",
       "        text-align: right;\n",
       "    }\n",
       "</style>\n",
       "<table border=\"1\" class=\"dataframe\">\n",
       "  <thead>\n",
       "    <tr style=\"text-align: right;\">\n",
       "      <th></th>\n",
       "      <th>序号</th>\n",
       "      <th>年龄</th>\n",
       "      <th>能量摄入量</th>\n",
       "      <th>是否吃主食</th>\n",
       "      <th>是否吃零食</th>\n",
       "      <th>最喜欢的食物</th>\n",
       "    </tr>\n",
       "  </thead>\n",
       "  <tbody>\n",
       "    <tr>\n",
       "      <th>0</th>\n",
       "      <td>1</td>\n",
       "      <td>17</td>\n",
       "      <td>500</td>\n",
       "      <td>一餐不吃</td>\n",
       "      <td>每天都吃</td>\n",
       "      <td>蛋糕</td>\n",
       "    </tr>\n",
       "    <tr>\n",
       "      <th>1</th>\n",
       "      <td>2</td>\n",
       "      <td>20</td>\n",
       "      <td>870</td>\n",
       "      <td>每餐都吃</td>\n",
       "      <td>吃的不多</td>\n",
       "      <td>米饭</td>\n",
       "    </tr>\n",
       "    <tr>\n",
       "      <th>2</th>\n",
       "      <td>3</td>\n",
       "      <td>22</td>\n",
       "      <td>1400</td>\n",
       "      <td>一餐不吃</td>\n",
       "      <td>每天都吃</td>\n",
       "      <td>红烧肉</td>\n",
       "    </tr>\n",
       "  </tbody>\n",
       "</table>\n",
       "</div>"
      ],
      "text/plain": [
       "   序号  年龄 能量摄入量 是否吃主食 是否吃零食 最喜欢的食物\n",
       "0   1  17   500  一餐不吃  每天都吃     蛋糕\n",
       "1   2  20   870  每餐都吃  吃的不多     米饭\n",
       "2   3  22  1400  一餐不吃  每天都吃    红烧肉"
      ]
     },
     "execution_count": 4,
     "metadata": {},
     "output_type": "execute_result"
    }
   ],
   "source": [
    "df2 = pd.read_excel(\"饮食方面.xlsx\")\n",
    "df2.head(3)"
   ]
  },
  {
   "cell_type": "code",
   "execution_count": 5,
   "metadata": {},
   "outputs": [
    {
     "data": {
      "text/html": [
       "<div>\n",
       "<style scoped>\n",
       "    .dataframe tbody tr th:only-of-type {\n",
       "        vertical-align: middle;\n",
       "    }\n",
       "\n",
       "    .dataframe tbody tr th {\n",
       "        vertical-align: top;\n",
       "    }\n",
       "\n",
       "    .dataframe thead th {\n",
       "        text-align: right;\n",
       "    }\n",
       "</style>\n",
       "<table border=\"1\" class=\"dataframe\">\n",
       "  <thead>\n",
       "    <tr style=\"text-align: right;\">\n",
       "      <th></th>\n",
       "      <th>序号</th>\n",
       "      <th>关心减肥的人群性别</th>\n",
       "      <th>减肥目的</th>\n",
       "      <th>关心的减肥部位</th>\n",
       "      <th>认为减肥不下去的原因</th>\n",
       "    </tr>\n",
       "  </thead>\n",
       "  <tbody>\n",
       "    <tr>\n",
       "      <th>0</th>\n",
       "      <td>1</td>\n",
       "      <td>女</td>\n",
       "      <td>提升健康程度</td>\n",
       "      <td>脸蛋</td>\n",
       "      <td>坚持不下去</td>\n",
       "    </tr>\n",
       "    <tr>\n",
       "      <th>1</th>\n",
       "      <td>2</td>\n",
       "      <td>女</td>\n",
       "      <td>提升健康程度</td>\n",
       "      <td>大腿</td>\n",
       "      <td>控制不住饮食</td>\n",
       "    </tr>\n",
       "    <tr>\n",
       "      <th>2</th>\n",
       "      <td>3</td>\n",
       "      <td>女</td>\n",
       "      <td>其他</td>\n",
       "      <td>肚子</td>\n",
       "      <td>没有专业指导</td>\n",
       "    </tr>\n",
       "  </tbody>\n",
       "</table>\n",
       "</div>"
      ],
      "text/plain": [
       "   序号 关心减肥的人群性别    减肥目的 关心的减肥部位 认为减肥不下去的原因\n",
       "0   1         女  提升健康程度      脸蛋      坚持不下去\n",
       "1   2         女  提升健康程度      大腿     控制不住饮食\n",
       "2   3         女      其他      肚子     没有专业指导"
      ]
     },
     "execution_count": 5,
     "metadata": {},
     "output_type": "execute_result"
    }
   ],
   "source": [
    "df3 = pd.read_excel(\"男女对比.xlsx\")\n",
    "df3.head(3)"
   ]
  },
  {
   "cell_type": "code",
   "execution_count": 6,
   "metadata": {},
   "outputs": [
    {
     "data": {
      "text/html": [
       "<div>\n",
       "<style scoped>\n",
       "    .dataframe tbody tr th:only-of-type {\n",
       "        vertical-align: middle;\n",
       "    }\n",
       "\n",
       "    .dataframe tbody tr th {\n",
       "        vertical-align: top;\n",
       "    }\n",
       "\n",
       "    .dataframe thead th {\n",
       "        text-align: right;\n",
       "    }\n",
       "</style>\n",
       "<table border=\"1\" class=\"dataframe\">\n",
       "  <thead>\n",
       "    <tr style=\"text-align: right;\">\n",
       "      <th></th>\n",
       "      <th>序号</th>\n",
       "      <th>健身人群性别</th>\n",
       "      <th>运动方式</th>\n",
       "      <th>运动目的</th>\n",
       "    </tr>\n",
       "  </thead>\n",
       "  <tbody>\n",
       "    <tr>\n",
       "      <th>0</th>\n",
       "      <td>1</td>\n",
       "      <td>女</td>\n",
       "      <td>瑜伽</td>\n",
       "      <td>健康管理</td>\n",
       "    </tr>\n",
       "    <tr>\n",
       "      <th>1</th>\n",
       "      <td>2</td>\n",
       "      <td>女</td>\n",
       "      <td>搏击操</td>\n",
       "      <td>运动健身</td>\n",
       "    </tr>\n",
       "    <tr>\n",
       "      <th>2</th>\n",
       "      <td>3</td>\n",
       "      <td>女</td>\n",
       "      <td>瑜伽</td>\n",
       "      <td>健康管理</td>\n",
       "    </tr>\n",
       "  </tbody>\n",
       "</table>\n",
       "</div>"
      ],
      "text/plain": [
       "   序号 健身人群性别 运动方式  运动目的\n",
       "0   1      女   瑜伽  健康管理\n",
       "1   2      女  搏击操  运动健身\n",
       "2   3      女   瑜伽  健康管理"
      ]
     },
     "execution_count": 6,
     "metadata": {},
     "output_type": "execute_result"
    }
   ],
   "source": [
    "df4 = pd.read_excel(\"运动方面.xlsx\")\n",
    "df4.head(3)"
   ]
  },
  {
   "cell_type": "markdown",
   "metadata": {},
   "source": [
    "查看属性,查看数据大小\n",
    "```PYTHON\n",
    "df.keys()\n",
    "df.shape\n",
    "```"
   ]
  },
  {
   "cell_type": "code",
   "execution_count": 7,
   "metadata": {},
   "outputs": [
    {
     "data": {
      "text/plain": [
       "Index(['省份', '肥胖率'], dtype='object')"
      ]
     },
     "execution_count": 7,
     "metadata": {},
     "output_type": "execute_result"
    }
   ],
   "source": [
    "df1.keys()"
   ]
  },
  {
   "cell_type": "code",
   "execution_count": 8,
   "metadata": {},
   "outputs": [
    {
     "data": {
      "text/plain": [
       "Index(['序号', '年龄', '能量摄入量', '是否吃主食', '是否吃零食', '最喜欢的食物'], dtype='object')"
      ]
     },
     "execution_count": 8,
     "metadata": {},
     "output_type": "execute_result"
    }
   ],
   "source": [
    "df2.keys()"
   ]
  },
  {
   "cell_type": "code",
   "execution_count": 9,
   "metadata": {},
   "outputs": [
    {
     "data": {
      "text/plain": [
       "Index(['序号', '关心减肥的人群性别', '减肥目的', '关心的减肥部位', '认为减肥不下去的原因'], dtype='object')"
      ]
     },
     "execution_count": 9,
     "metadata": {},
     "output_type": "execute_result"
    }
   ],
   "source": [
    "df3.keys()"
   ]
  },
  {
   "cell_type": "code",
   "execution_count": 10,
   "metadata": {},
   "outputs": [
    {
     "data": {
      "text/plain": [
       "Index(['序号', '健身人群性别', '运动方式', '运动目的'], dtype='object')"
      ]
     },
     "execution_count": 10,
     "metadata": {},
     "output_type": "execute_result"
    }
   ],
   "source": [
    "df4.keys()"
   ]
  },
  {
   "cell_type": "code",
   "execution_count": 11,
   "metadata": {},
   "outputs": [
    {
     "data": {
      "text/plain": [
       "(31, 2)"
      ]
     },
     "execution_count": 11,
     "metadata": {},
     "output_type": "execute_result"
    }
   ],
   "source": [
    "df1.shape"
   ]
  },
  {
   "cell_type": "code",
   "execution_count": 12,
   "metadata": {},
   "outputs": [
    {
     "data": {
      "text/plain": [
       "(1000, 6)"
      ]
     },
     "execution_count": 12,
     "metadata": {},
     "output_type": "execute_result"
    }
   ],
   "source": [
    "df2.shape"
   ]
  },
  {
   "cell_type": "code",
   "execution_count": 13,
   "metadata": {},
   "outputs": [
    {
     "data": {
      "text/plain": [
       "(1000, 5)"
      ]
     },
     "execution_count": 13,
     "metadata": {},
     "output_type": "execute_result"
    }
   ],
   "source": [
    "df3.shape"
   ]
  },
  {
   "cell_type": "code",
   "execution_count": 14,
   "metadata": {},
   "outputs": [
    {
     "data": {
      "text/plain": [
       "(1000, 4)"
      ]
     },
     "execution_count": 14,
     "metadata": {},
     "output_type": "execute_result"
    }
   ],
   "source": [
    "df4.shape"
   ]
  },
  {
   "cell_type": "markdown",
   "metadata": {},
   "source": [
    "### 2.3 对数据进行清洗"
   ]
  },
  {
   "cell_type": "markdown",
   "metadata": {},
   "source": [
    "```python\n",
    "数据集中有部分无用的数据需要进行清洗，以免影响最终结论准确性\n",
    "以下以（男女比例数据集中，对男性减肥目的未作答的人进行数据筛选）为例```"
   ]
  },
  {
   "cell_type": "code",
   "execution_count": 15,
   "metadata": {},
   "outputs": [],
   "source": [
    "da=df3.loc[df3['关心减肥的人群性别']=='男']"
   ]
  },
  {
   "cell_type": "code",
   "execution_count": 16,
   "metadata": {},
   "outputs": [
    {
     "data": {
      "text/plain": [
       "206"
      ]
     },
     "execution_count": 16,
     "metadata": {},
     "output_type": "execute_result"
    }
   ],
   "source": [
    "da.减肥目的.count()"
   ]
  },
  {
   "cell_type": "code",
   "execution_count": 17,
   "metadata": {},
   "outputs": [],
   "source": [
    "db=da.drop(index=(da.loc[(da['减肥目的']=='未作答')].index))"
   ]
  },
  {
   "cell_type": "code",
   "execution_count": 18,
   "metadata": {},
   "outputs": [
    {
     "data": {
      "text/plain": [
       "203"
      ]
     },
     "execution_count": 18,
     "metadata": {},
     "output_type": "execute_result"
    }
   ],
   "source": [
    "db.减肥目的.count()"
   ]
  },
  {
   "cell_type": "markdown",
   "metadata": {},
   "source": [
    "## 三、实验步骤"
   ]
  },
  {
   "cell_type": "markdown",
   "metadata": {},
   "source": [
    "### 3.1 基于中国南北肥胖情况表进行分析"
   ]
  },
  {
   "cell_type": "markdown",
   "metadata": {},
   "source": [
    "意义：中国南北肥胖情况数据集中，展示了全国各省对应的肥胖率。通过对各省肥胖率进行分析，可以得出全国肥胖率，肥胖率的地理分布等结论。\n",
    "```python\n",
    "1.首先基于各省肥胖率求平均，得到全国肥胖率\n",
    "2.对肥胖率进行排列，显示肥胖率最高的三个省\n",
    "3.对肥胖率进行排列，显示肥胖率最低的三个省\n",
    "4.对表中数据进行交互式地图展示```"
   ]
  },
  {
   "cell_type": "code",
   "execution_count": 19,
   "metadata": {},
   "outputs": [
    {
     "data": {
      "text/plain": [
       "13.59354838709677"
      ]
     },
     "execution_count": 19,
     "metadata": {},
     "output_type": "execute_result"
    }
   ],
   "source": [
    "#1.基于各省肥胖率求平均，得到全国肥胖率\n",
    "df1[\"肥胖率\"].mean()"
   ]
  },
  {
   "cell_type": "code",
   "execution_count": 20,
   "metadata": {},
   "outputs": [
    {
     "data": {
      "text/html": [
       "<div>\n",
       "<style scoped>\n",
       "    .dataframe tbody tr th:only-of-type {\n",
       "        vertical-align: middle;\n",
       "    }\n",
       "\n",
       "    .dataframe tbody tr th {\n",
       "        vertical-align: top;\n",
       "    }\n",
       "\n",
       "    .dataframe thead th {\n",
       "        text-align: right;\n",
       "    }\n",
       "</style>\n",
       "<table border=\"1\" class=\"dataframe\">\n",
       "  <thead>\n",
       "    <tr style=\"text-align: right;\">\n",
       "      <th></th>\n",
       "      <th>省份</th>\n",
       "      <th>肥胖率</th>\n",
       "    </tr>\n",
       "  </thead>\n",
       "  <tbody>\n",
       "    <tr>\n",
       "      <th>28</th>\n",
       "      <td>北京</td>\n",
       "      <td>25.9</td>\n",
       "    </tr>\n",
       "    <tr>\n",
       "      <th>20</th>\n",
       "      <td>河北</td>\n",
       "      <td>22.2</td>\n",
       "    </tr>\n",
       "    <tr>\n",
       "      <th>29</th>\n",
       "      <td>新疆</td>\n",
       "      <td>21.5</td>\n",
       "    </tr>\n",
       "  </tbody>\n",
       "</table>\n",
       "</div>"
      ],
      "text/plain": [
       "    省份   肥胖率\n",
       "28  北京  25.9\n",
       "20  河北  22.2\n",
       "29  新疆  21.5"
      ]
     },
     "execution_count": 20,
     "metadata": {},
     "output_type": "execute_result"
    }
   ],
   "source": [
    "#2.筛选显示肥胖率最高的三个省\n",
    "df1.sort_values(by='肥胖率',ascending=False).head(3)"
   ]
  },
  {
   "cell_type": "code",
   "execution_count": 21,
   "metadata": {},
   "outputs": [
    {
     "data": {
      "text/html": [
       "<div>\n",
       "<style scoped>\n",
       "    .dataframe tbody tr th:only-of-type {\n",
       "        vertical-align: middle;\n",
       "    }\n",
       "\n",
       "    .dataframe tbody tr th {\n",
       "        vertical-align: top;\n",
       "    }\n",
       "\n",
       "    .dataframe thead th {\n",
       "        text-align: right;\n",
       "    }\n",
       "</style>\n",
       "<table border=\"1\" class=\"dataframe\">\n",
       "  <thead>\n",
       "    <tr style=\"text-align: right;\">\n",
       "      <th></th>\n",
       "      <th>省份</th>\n",
       "      <th>肥胖率</th>\n",
       "    </tr>\n",
       "  </thead>\n",
       "  <tbody>\n",
       "    <tr>\n",
       "      <th>12</th>\n",
       "      <td>海南</td>\n",
       "      <td>5.7</td>\n",
       "    </tr>\n",
       "    <tr>\n",
       "      <th>13</th>\n",
       "      <td>广西</td>\n",
       "      <td>5.7</td>\n",
       "    </tr>\n",
       "    <tr>\n",
       "      <th>14</th>\n",
       "      <td>西藏</td>\n",
       "      <td>6.2</td>\n",
       "    </tr>\n",
       "  </tbody>\n",
       "</table>\n",
       "</div>"
      ],
      "text/plain": [
       "    省份  肥胖率\n",
       "12  海南  5.7\n",
       "13  广西  5.7\n",
       "14  西藏  6.2"
      ]
     },
     "execution_count": 21,
     "metadata": {},
     "output_type": "execute_result"
    }
   ],
   "source": [
    "#3.筛选显示肥胖率最低的三个省\n",
    "df1.sort_values(by='肥胖率').head(3)"
   ]
  },
  {
   "cell_type": "markdown",
   "metadata": {},
   "source": [
    "```python\n",
    "基于123条数据分析可以得出结论全国平均肥胖率为13.59，\n",
    "北京是肥胖率最高的城市，且远高于全国平均。\n",
    "通过显示肥胖率最高和最低的三个省，可以看出一个很有意思的事情，那就是肥胖率最高的三个省均在北方，而肥胖率最低的三个省全在南方。\n",
    "\n",
    "下面我们通过地图显示各省肥胖情况```"
   ]
  },
  {
   "cell_type": "code",
   "execution_count": 22,
   "metadata": {},
   "outputs": [
    {
     "data": {
      "text/html": [
       "\n",
       "<script>\n",
       "    require.config({\n",
       "        paths: {\n",
       "            'echarts':'https://assets.pyecharts.org/assets/echarts.min', 'china':'https://assets.pyecharts.org/assets/maps/china'\n",
       "        }\n",
       "    });\n",
       "</script>\n",
       "\n",
       "        <div id=\"da89613dd3c14e1cbb23c5a845a2431d\" style=\"width:900px; height:500px;\"></div>\n",
       "\n",
       "<script>\n",
       "        require(['echarts', 'china'], function(echarts) {\n",
       "                var chart_da89613dd3c14e1cbb23c5a845a2431d = echarts.init(\n",
       "                    document.getElementById('da89613dd3c14e1cbb23c5a845a2431d'), 'white', {renderer: 'canvas'});\n",
       "                var option_da89613dd3c14e1cbb23c5a845a2431d = {\n",
       "    \"animation\": true,\n",
       "    \"animationThreshold\": 2000,\n",
       "    \"animationDuration\": 1000,\n",
       "    \"animationEasing\": \"cubicOut\",\n",
       "    \"animationDelay\": 0,\n",
       "    \"animationDurationUpdate\": 300,\n",
       "    \"animationEasingUpdate\": \"cubicOut\",\n",
       "    \"animationDelayUpdate\": 0,\n",
       "    \"color\": [\n",
       "        \"#c23531\",\n",
       "        \"#2f4554\",\n",
       "        \"#61a0a8\",\n",
       "        \"#d48265\",\n",
       "        \"#749f83\",\n",
       "        \"#ca8622\",\n",
       "        \"#bda29a\",\n",
       "        \"#6e7074\",\n",
       "        \"#546570\",\n",
       "        \"#c4ccd3\",\n",
       "        \"#f05b72\",\n",
       "        \"#ef5b9c\",\n",
       "        \"#f47920\",\n",
       "        \"#905a3d\",\n",
       "        \"#fab27b\",\n",
       "        \"#2a5caa\",\n",
       "        \"#444693\",\n",
       "        \"#726930\",\n",
       "        \"#b2d235\",\n",
       "        \"#6d8346\",\n",
       "        \"#ac6767\",\n",
       "        \"#1d953f\",\n",
       "        \"#6950a1\",\n",
       "        \"#918597\"\n",
       "    ],\n",
       "    \"series\": [\n",
       "        {\n",
       "            \"type\": \"map\",\n",
       "            \"name\": \"\\u80a5\\u80d6\\u7387\",\n",
       "            \"label\": {\n",
       "                \"show\": true,\n",
       "                \"position\": \"top\",\n",
       "                \"margin\": 8\n",
       "            },\n",
       "            \"mapType\": \"china\",\n",
       "            \"data\": [\n",
       "                {\n",
       "                    \"name\": \"\\u5929\\u6d25\",\n",
       "                    \"value\": 21.2\n",
       "                },\n",
       "                {\n",
       "                    \"name\": \"\\u8fbd\\u5b81\",\n",
       "                    \"value\": 17.3\n",
       "                },\n",
       "                {\n",
       "                    \"name\": \"\\u5c71\\u897f\",\n",
       "                    \"value\": 18.6\n",
       "                },\n",
       "                {\n",
       "                    \"name\": \"\\u5185\\u8499\\u53e4\",\n",
       "                    \"value\": 19.6\n",
       "                },\n",
       "                {\n",
       "                    \"name\": \"\\u9ed1\\u9f99\\u6c5f\",\n",
       "                    \"value\": 19.8\n",
       "                },\n",
       "                {\n",
       "                    \"name\": \"\\u6cb3\\u5317\",\n",
       "                    \"value\": 22.2\n",
       "                },\n",
       "                {\n",
       "                    \"name\": \"\\u6c5f\\u82cf\",\n",
       "                    \"value\": 16.8\n",
       "                },\n",
       "                {\n",
       "                    \"name\": \"\\u5409\\u6797\",\n",
       "                    \"value\": 14.4\n",
       "                },\n",
       "                {\n",
       "                    \"name\": \"\\u5c71\\u4e1c\",\n",
       "                    \"value\": 19.3\n",
       "                },\n",
       "                {\n",
       "                    \"name\": \"\\u5b89\\u5fbd\",\n",
       "                    \"value\": 13.9\n",
       "                },\n",
       "                {\n",
       "                    \"name\": \"\\u6cb3\\u5357\",\n",
       "                    \"value\": 17.7\n",
       "                },\n",
       "                {\n",
       "                    \"name\": \"\\u7518\\u8083\",\n",
       "                    \"value\": 12.8\n",
       "                },\n",
       "                {\n",
       "                    \"name\": \"\\u9655\\u897f\",\n",
       "                    \"value\": 13\n",
       "                },\n",
       "                {\n",
       "                    \"name\": \"\\u5317\\u4eac\",\n",
       "                    \"value\": 25.9\n",
       "                },\n",
       "                {\n",
       "                    \"name\": \"\\u65b0\\u7586\",\n",
       "                    \"value\": 21.5\n",
       "                },\n",
       "                {\n",
       "                    \"name\": \"\\u91cd\\u5e86\",\n",
       "                    \"value\": 11.2\n",
       "                },\n",
       "                {\n",
       "                    \"name\": \"\\u5b81\\u590f\",\n",
       "                    \"value\": 11.4\n",
       "                },\n",
       "                {\n",
       "                    \"name\": \"\\u6e56\\u5357\",\n",
       "                    \"value\": 12.2\n",
       "                },\n",
       "                {\n",
       "                    \"name\": \"\\u4e0a\\u6d77\",\n",
       "                    \"value\": 11\n",
       "                },\n",
       "                {\n",
       "                    \"name\": \"\\u56db\\u5ddd\",\n",
       "                    \"value\": 8.8\n",
       "                },\n",
       "                {\n",
       "                    \"name\": \"\\u6e56\\u5317\",\n",
       "                    \"value\": 11.2\n",
       "                },\n",
       "                {\n",
       "                    \"name\": \"\\u6d59\\u6c5f\",\n",
       "                    \"value\": 10.6\n",
       "                },\n",
       "                {\n",
       "                    \"name\": \"\\u6c5f\\u897f\",\n",
       "                    \"value\": 9\n",
       "                },\n",
       "                {\n",
       "                    \"name\": \"\\u9752\\u6d77\",\n",
       "                    \"value\": 9.3\n",
       "                },\n",
       "                {\n",
       "                    \"name\": \"\\u798f\\u5efa\",\n",
       "                    \"value\": 9.4\n",
       "                },\n",
       "                {\n",
       "                    \"name\": \"\\u8d35\\u5dde\",\n",
       "                    \"value\": 7.5\n",
       "                },\n",
       "                {\n",
       "                    \"name\": \"\\u5e7f\\u4e1c\",\n",
       "                    \"value\": 8.9\n",
       "                },\n",
       "                {\n",
       "                    \"name\": \"\\u4e91\\u5357\",\n",
       "                    \"value\": 9.3\n",
       "                },\n",
       "                {\n",
       "                    \"name\": \"\\u6d77\\u5357\",\n",
       "                    \"value\": 5.7\n",
       "                },\n",
       "                {\n",
       "                    \"name\": \"\\u5e7f\\u897f\",\n",
       "                    \"value\": 5.7\n",
       "                },\n",
       "                {\n",
       "                    \"name\": \"\\u897f\\u85cf\",\n",
       "                    \"value\": 6.7\n",
       "                }\n",
       "            ],\n",
       "            \"roam\": true,\n",
       "            \"center\": [\n",
       "                105,\n",
       "                38\n",
       "            ],\n",
       "            \"zoom\": 1,\n",
       "            \"showLegendSymbol\": true,\n",
       "            \"emphasis\": {}\n",
       "        }\n",
       "    ],\n",
       "    \"legend\": [\n",
       "        {\n",
       "            \"data\": [\n",
       "                \"\\u80a5\\u80d6\\u7387\"\n",
       "            ],\n",
       "            \"selected\": {\n",
       "                \"\\u80a5\\u80d6\\u7387\": true\n",
       "            },\n",
       "            \"show\": true,\n",
       "            \"padding\": 5,\n",
       "            \"itemGap\": 10,\n",
       "            \"itemWidth\": 25,\n",
       "            \"itemHeight\": 14\n",
       "        }\n",
       "    ],\n",
       "    \"tooltip\": {\n",
       "        \"show\": true,\n",
       "        \"trigger\": \"item\",\n",
       "        \"triggerOn\": \"mousemove|click\",\n",
       "        \"axisPointer\": {\n",
       "            \"type\": \"line\"\n",
       "        },\n",
       "        \"textStyle\": {\n",
       "            \"fontSize\": 14\n",
       "        },\n",
       "        \"borderWidth\": 0\n",
       "    },\n",
       "    \"title\": [\n",
       "        {\n",
       "            \"text\": \"\\u4e2d\\u56fd\\u5357\\u5317\\u80a5\\u80d6\\u7387\",\n",
       "            \"padding\": 5,\n",
       "            \"itemGap\": 10\n",
       "        }\n",
       "    ],\n",
       "    \"visualMap\": {\n",
       "        \"show\": true,\n",
       "        \"type\": \"piecewise\",\n",
       "        \"min\": 0,\n",
       "        \"max\": 30,\n",
       "        \"inRange\": {\n",
       "            \"color\": [\n",
       "                \"#50a3ba\",\n",
       "                \"#eac763\",\n",
       "                \"#d94e5d\"\n",
       "            ]\n",
       "        },\n",
       "        \"calculable\": true,\n",
       "        \"inverse\": false,\n",
       "        \"splitNumber\": 5,\n",
       "        \"orient\": \"vertical\",\n",
       "        \"showLabel\": true,\n",
       "        \"itemWidth\": 20,\n",
       "        \"itemHeight\": 14,\n",
       "        \"borderWidth\": 0,\n",
       "        \"pieces\": [\n",
       "            {\n",
       "                \"max\": 6,\n",
       "                \"min\": 0,\n",
       "                \"label\": \"0%-6%\",\n",
       "                \"color\": \"#FFE4E1\"\n",
       "            },\n",
       "            {\n",
       "                \"max\": 12,\n",
       "                \"min\": 6,\n",
       "                \"label\": \">6%-12%\",\n",
       "                \"color\": \"#FF7F50\"\n",
       "            },\n",
       "            {\n",
       "                \"max\": 16,\n",
       "                \"min\": 12,\n",
       "                \"label\": \">12%-16%\",\n",
       "                \"color\": \"#F08080\"\n",
       "            },\n",
       "            {\n",
       "                \"max\": 20,\n",
       "                \"min\": 16,\n",
       "                \"label\": \">16%-20%\",\n",
       "                \"color\": \"#CD5C5C\"\n",
       "            },\n",
       "            {\n",
       "                \"max\": 100,\n",
       "                \"min\": 20,\n",
       "                \"label\": \">20%\",\n",
       "                \"color\": \"#8B0000\"\n",
       "            }\n",
       "        ]\n",
       "    }\n",
       "};\n",
       "                chart_da89613dd3c14e1cbb23c5a845a2431d.setOption(option_da89613dd3c14e1cbb23c5a845a2431d);\n",
       "        });\n",
       "    </script>\n"
      ],
      "text/plain": [
       "<pyecharts.render.display.HTML at 0x2970f804bc8>"
      ]
     },
     "execution_count": 22,
     "metadata": {},
     "output_type": "execute_result"
    }
   ],
   "source": [
    "#4.交互式地图展示\n",
    "data = [('天津',21.2),('辽宁', 17.3),('山西',18.6),('内蒙古', 19.6),('黑龙江', 19.8),('河北', 22.2),\n",
    "        ('江苏', 16.8),('吉林', 14.4),('山东', 19.3),('安徽', 13.9),('河南', 17.7),('甘肃', 12.8),\n",
    "        ('陕西', 13),('北京', 25.9),('新疆', 21.5),('重庆', 11.2),('宁夏', 11.4),('湖南', 12.2),('上海', 11),\n",
    "        ('四川', 8.8),('湖北', 11.2),('浙江', 10.6),('江西', 9),('青海', 9.3),('福建', 9.4),('贵州', 7.5),\n",
    "        ('广东', 8.9),('云南', 9.3),('海南', 5.7),('广西', 5.7),('西藏', 6.7)]\n",
    "\n",
    "def map_china() -> Map:\n",
    "  c = (\n",
    "    Map()\n",
    "    .add(series_name=\"肥胖率\", data_pair=data, maptype=\"china\",zoom = 1,center=[105,38])\n",
    "    .set_global_opts(\n",
    "      title_opts=opts.TitleOpts(title=\"中国南北肥胖率\"),\n",
    "      visualmap_opts=opts.VisualMapOpts(max_=30,is_piecewise=True,\n",
    "              pieces=[{\"max\": 6, \"min\": 0, \"label\": \"0%-6%\",\"color\":\"#FFE4E1\"},\n",
    "                  {\"max\": 12, \"min\": 6, \"label\": \">6%-12%\",\"color\":\"#FF7F50\"},\n",
    "                  {\"max\": 16, \"min\": 12, \"label\": \">12%-16%\",\"color\":\"#F08080\"},\n",
    "                  {\"max\": 20, \"min\": 16, \"label\": \">16%-20%\",\"color\":\"#CD5C5C\"},\n",
    "                  {\"max\":100, \"min\": 20, \"label\": \">20%\", \"color\":\"#8B0000\"}]\n",
    "                       )\n",
    "    )\n",
    "  )\n",
    "  return c\n",
    "\n",
    "d_map = map_china()\n",
    "d_map.render_notebook()"
   ]
  },
  {
   "cell_type": "markdown",
   "metadata": {},
   "source": [
    "```python\n",
    "通过这张图的颜色深浅不难看出，北方地区颜色明显深于南方，南方肥胖率大致在6%-12%居多，而北方肥胖率大致都在16%-20%这个区间。\n",
    "那么可以得出，中国北方肥胖率高于南方，刨除其他因素，就天气而言，南方天气相对较热于北方，这导致南方人身体代谢普遍快于北方人，所以肥胖率南方较低。\n",
    "\n",
    "所以，不是你胖，而是气温太低~```"
   ]
  },
  {
   "cell_type": "markdown",
   "metadata": {},
   "source": [
    "### 3.2 基于饮食方面数据表进行分析"
   ]
  },
  {
   "cell_type": "markdown",
   "metadata": {},
   "source": [
    "意义：在饮食方面数据表中，调查了1000名减肥者的基础饮食情况。\n",
    "通过对减肥人群饮食情况进行分析，可以了解到减肥人群的日常饮食习惯，得出一些有意思的结论。\n",
    "```python\n",
    "1.调查样本年龄比例\n",
    "2.减肥人群是否吃主食\n",
    "3.减肥人群是否吃零食\n",
    "4.减肥人群日常能量摄入\n",
    "5.减肥人群最喜欢的食物```"
   ]
  },
  {
   "cell_type": "markdown",
   "metadata": {},
   "source": [
    "#### 1.对调查样本人群年龄进行分析"
   ]
  },
  {
   "cell_type": "code",
   "execution_count": 23,
   "metadata": {},
   "outputs": [],
   "source": [
    "#1对调查样本人群年龄进行分析\n",
    "#分成18岁以下,18-22岁,23-26岁,27-30岁,30岁以上5个年龄段#\n",
    "df2['年龄']=df2['年龄'].astype(int)"
   ]
  },
  {
   "cell_type": "code",
   "execution_count": 24,
   "metadata": {},
   "outputs": [
    {
     "data": {
      "text/plain": [
       "30"
      ]
     },
     "execution_count": 24,
     "metadata": {},
     "output_type": "execute_result"
    }
   ],
   "source": [
    "#确定每个年龄段的人数\n",
    "df2[(df2['年龄']<18)].shape[0]"
   ]
  },
  {
   "cell_type": "code",
   "execution_count": 25,
   "metadata": {},
   "outputs": [
    {
     "data": {
      "text/plain": [
       "350"
      ]
     },
     "execution_count": 25,
     "metadata": {},
     "output_type": "execute_result"
    }
   ],
   "source": [
    "df2[(df2['年龄']>=18)&(df2['年龄']<=22)].shape[0]"
   ]
  },
  {
   "cell_type": "code",
   "execution_count": 26,
   "metadata": {},
   "outputs": [
    {
     "data": {
      "text/plain": [
       "340"
      ]
     },
     "execution_count": 26,
     "metadata": {},
     "output_type": "execute_result"
    }
   ],
   "source": [
    "df2[(df2['年龄']>=23)&(df2['年龄']<=26)].shape[0]"
   ]
  },
  {
   "cell_type": "code",
   "execution_count": 27,
   "metadata": {},
   "outputs": [
    {
     "data": {
      "text/plain": [
       "160"
      ]
     },
     "execution_count": 27,
     "metadata": {},
     "output_type": "execute_result"
    }
   ],
   "source": [
    "df2[(df2['年龄']>=27)&(df2['年龄']<=30)].shape[0]"
   ]
  },
  {
   "cell_type": "code",
   "execution_count": 28,
   "metadata": {},
   "outputs": [
    {
     "data": {
      "text/plain": [
       "120"
      ]
     },
     "execution_count": 28,
     "metadata": {},
     "output_type": "execute_result"
    }
   ],
   "source": [
    "df2[(df2['年龄']>30)].shape[0]"
   ]
  },
  {
   "cell_type": "code",
   "execution_count": 29,
   "metadata": {},
   "outputs": [
    {
     "data": {
      "text/plain": [
       "Text(0.5, 1.0, '调查人群年龄分布')"
      ]
     },
     "execution_count": 29,
     "metadata": {},
     "output_type": "execute_result"
    },
    {
     "data": {
      "image/png": "[encoded data removed]",
      "text/plain": [
       "<Figure size 432x288 with 1 Axes>"
      ]
     },
     "metadata": {},
     "output_type": "display_data"
    }
   ],
   "source": [
    "#用Seaborn画调查人群年龄分布饼图\n",
    "plt.rcParams['font.family'] = 'SimHei'\n",
    "labels=['18岁以下','18-22岁','23-26岁','27-30岁','30岁以上']\n",
    "sizes=[30,350,340,160,120]\n",
    "colors=['orangered','tomato','salmon','darkorange','gold']\n",
    "plt.pie(sizes,labels=labels,colors=colors,autopct='%1.2f%%',shadow=False,labeldistance=1.1)\n",
    "plt.title('调查人群年龄分布')"
   ]
  },
  {
   "cell_type": "markdown",
   "metadata": {},
   "source": [
    "```python\n",
    "由柱状图可以看出调查样本人群的年龄分布，其中18~26岁占了很大一部分。\n",
    "可见现在青年一代是减肥人群的主力军，这其中的因素包括当代青年不良的生活习惯，外卖，宵夜，通宵，都是导致肥胖的因素```"
   ]
  },
  {
   "cell_type": "markdown",
   "metadata": {},
   "source": [
    "#### 2.对减肥人群是否吃主食进行分析"
   ]
  },
  {
   "cell_type": "code",
   "execution_count": 83,
   "metadata": {},
   "outputs": [],
   "source": [
    "labels=['每餐都吃','一餐不吃','2餐不吃或都不吃']\n",
    "size=[len(df2[(df2.是否吃主食=='每餐都吃')]),len(df2[(df2.是否吃主食=='一餐不吃')]),len(df2[(df2.是否吃主食=='2餐不吃或都不吃')])]"
   ]
  },
  {
   "cell_type": "code",
   "execution_count": 84,
   "metadata": {},
   "outputs": [],
   "source": [
    "explode=(0,0,0)"
   ]
  },
  {
   "cell_type": "code",
   "execution_count": 85,
   "metadata": {},
   "outputs": [],
   "source": [
    "colors=['tomato','salmon','darkorange']"
   ]
  },
  {
   "cell_type": "code",
   "execution_count": 86,
   "metadata": {},
   "outputs": [
    {
     "data": {
      "text/plain": [
       "Text(0.5, 1.0, '是否吃主食')"
      ]
     },
     "execution_count": 86,
     "metadata": {},
     "output_type": "execute_result"
    },
    {
     "data": {
      "image/png": "[encoded data removed]",
      "text/plain": [
       "<Figure size 432x288 with 1 Axes>"
      ]
     },
     "metadata": {},
     "output_type": "display_data"
    }
   ],
   "source": [
    "plt.pie(size,labels=labels,colors=colors,autopct='%1.1f%%',shadow=False,labeldistance=0.3)\n",
    "plt.title('是否吃主食')"
   ]
  },
  {
   "cell_type": "markdown",
   "metadata": {},
   "source": [
    "```python\n",
    "由此可以看出减肥人群不吃主食的比例相对还是较高的。\n",
    "很多减肥者误以为肥胖的原因是主食或者碳水化合物摄入太多，其实不然，导致你长胖的是你摄入过多没有消耗掉的能量，\n",
    "而这些能量大部分是碳水化合物提供的，但这并不代表不吃主食就会瘦，其他食物吃多了也会导致热量过高引起肥胖```"
   ]
  },
  {
   "cell_type": "markdown",
   "metadata": {},
   "source": [
    "#### 3.对减肥人群是否吃零食进行分析"
   ]
  },
  {
   "cell_type": "code",
   "execution_count": 34,
   "metadata": {},
   "outputs": [],
   "source": [
    "labels=['每天都吃','吃的不多','不吃']"
   ]
  },
  {
   "cell_type": "code",
   "execution_count": 35,
   "metadata": {},
   "outputs": [],
   "source": [
    "size=[len(df2[(df2.是否吃零食=='每天都吃')]),len(df2[(df2.是否吃零食=='吃的不多')]),len(df2[(df2.是否吃零食=='不吃')])]"
   ]
  },
  {
   "cell_type": "code",
   "execution_count": 36,
   "metadata": {},
   "outputs": [],
   "source": [
    "explode=(0,0,0)"
   ]
  },
  {
   "cell_type": "code",
   "execution_count": 37,
   "metadata": {},
   "outputs": [
    {
     "data": {
      "text/plain": [
       "Text(0.5, 1.0, '是否会吃零食')"
      ]
     },
     "execution_count": 37,
     "metadata": {},
     "output_type": "execute_result"
    },
    {
     "data": {
      "image/png": "[encoded data removed]",
      "text/plain": [
       "<Figure size 432x288 with 1 Axes>"
      ]
     },
     "metadata": {},
     "output_type": "display_data"
    }
   ],
   "source": [
    "plt.pie(size,labels=labels,colors=colors,autopct='%1.1f%%',shadow=False,labeldistance=0.3)\n",
    "plt.title('是否会吃零食')"
   ]
  },
  {
   "cell_type": "markdown",
   "metadata": {},
   "source": [
    "```python\n",
    "由此图可以看出，只有30%的减肥人群是不吃零食的。\n",
    "零食区别于正餐，零食带来的热量可能就属于超出人体需要的那部分，减少零食的摄入，对减轻体重帮助会很大```"
   ]
  },
  {
   "cell_type": "markdown",
   "metadata": {},
   "source": [
    "#### 4.对减肥人群日常能量摄入进行分析"
   ]
  },
  {
   "cell_type": "code",
   "execution_count": 40,
   "metadata": {},
   "outputs": [
    {
     "data": {
      "text/plain": [
       "不清楚     140\n",
       "1205     40\n",
       "1208     30\n",
       "1230     30\n",
       "1216     20\n",
       "       ... \n",
       "1222     10\n",
       "964      10\n",
       "1218     10\n",
       "1248     10\n",
       "1280     10\n",
       "Name: 能量摄入量, Length: 71, dtype: int64"
      ]
     },
     "execution_count": 40,
     "metadata": {},
     "output_type": "execute_result"
    }
   ],
   "source": [
    "df2.能量摄入量.value_counts()"
   ]
  },
  {
   "cell_type": "code",
   "execution_count": 41,
   "metadata": {},
   "outputs": [],
   "source": [
    "#对脏数据进行清理\n",
    "dd=df2.drop(index=(df2.loc[(df2['能量摄入量']=='不清楚')].index))"
   ]
  },
  {
   "cell_type": "code",
   "execution_count": 42,
   "metadata": {},
   "outputs": [],
   "source": [
    "dd['能量摄入量']=dd['能量摄入量'].astype(int)"
   ]
  },
  {
   "cell_type": "code",
   "execution_count": 43,
   "metadata": {},
   "outputs": [
    {
     "data": {
      "text/plain": [
       "50"
      ]
     },
     "execution_count": 43,
     "metadata": {},
     "output_type": "execute_result"
    }
   ],
   "source": [
    "dd[(dd['能量摄入量']<800)].shape[0]"
   ]
  },
  {
   "cell_type": "code",
   "execution_count": 44,
   "metadata": {},
   "outputs": [
    {
     "data": {
      "text/plain": [
       "330"
      ]
     },
     "execution_count": 44,
     "metadata": {},
     "output_type": "execute_result"
    }
   ],
   "source": [
    "dd[(dd['能量摄入量']>=800)&(dd['能量摄入量']<=1200)].shape[0]"
   ]
  },
  {
   "cell_type": "code",
   "execution_count": 45,
   "metadata": {},
   "outputs": [
    {
     "data": {
      "text/plain": [
       "480"
      ]
     },
     "execution_count": 45,
     "metadata": {},
     "output_type": "execute_result"
    }
   ],
   "source": [
    "dd[(dd['能量摄入量']>1200)].shape[0]"
   ]
  },
  {
   "cell_type": "code",
   "execution_count": 76,
   "metadata": {},
   "outputs": [
    {
     "data": {
      "text/plain": [
       "Text(0.5, 1.0, '减肥人群日常摄入热量')"
      ]
     },
     "execution_count": 76,
     "metadata": {},
     "output_type": "execute_result"
    },
    {
     "data": {
      "image/png": "[encoded data removed]",
      "text/plain": [
       "<Figure size 432x288 with 1 Axes>"
      ]
     },
     "metadata": {},
     "output_type": "display_data"
    }
   ],
   "source": [
    "labels=['800大卡以下','800-1200大卡之间','1200大卡以上','不清楚']\n",
    "sizes=[50,330,480,140]\n",
    "colors=['salmon','darkorange','tomato','gold']\n",
    "plt.pie(sizes,labels=labels,colors=colors,autopct='%1.1f%%',shadow=False,labeldistance=0.3)\n",
    "plt.title('减肥人群日常摄入热量')"
   ]
  },
  {
   "cell_type": "markdown",
   "metadata": {},
   "source": [
    "```python\n",
    "经过对减肥人群热量摄入的分析，我们发现仅有48%的减肥人群每日能量摄入高于每日摄入能量最低1200大卡这个标准。\n",
    "其实，在减肥期间为了减少摄入量而达到减肥的效果非常普遍，但人体长期处于摄入量低于人体所需消耗能量会导致身体代谢下降等问题。\n",
    "所以为了身体健康，减肥人群能量摄入最好控制在正常范围，不要过于极端```"
   ]
  },
  {
   "cell_type": "markdown",
   "metadata": {},
   "source": [
    "#### 5.对减肥人群最喜欢的食物进行分析\n"
   ]
  },
  {
   "cell_type": "code",
   "execution_count": 46,
   "metadata": {},
   "outputs": [
    {
     "data": {
      "text/plain": [
       "蛋糕     250\n",
       "红烧肉    250\n",
       "鸡蛋     130\n",
       "鸡肉      90\n",
       "酸奶      60\n",
       "黄瓜      50\n",
       "豆腐      50\n",
       "木耳      50\n",
       "香蕉      40\n",
       "米饭      30\n",
       "Name: 最喜欢的食物, dtype: int64"
      ]
     },
     "execution_count": 46,
     "metadata": {},
     "output_type": "execute_result"
    }
   ],
   "source": [
    "#对减肥人群喜欢的食物进行数量和并分析\n",
    "df2.最喜欢的食物.value_counts()"
   ]
  },
  {
   "cell_type": "code",
   "execution_count": 50,
   "metadata": {},
   "outputs": [
    {
     "data": {
      "text/html": [
       "\n",
       "<script>\n",
       "    require.config({\n",
       "        paths: {\n",
       "            'echarts':'https://assets.pyecharts.org/assets/echarts.min'\n",
       "        }\n",
       "    });\n",
       "</script>\n",
       "\n",
       "        <div id=\"7a9afb76a3844cd994cb92a54408cbcb\" style=\"width:1000px; height:600px;\"></div>\n",
       "\n",
       "<script>\n",
       "        require(['echarts'], function(echarts) {\n",
       "                var chart_7a9afb76a3844cd994cb92a54408cbcb = echarts.init(\n",
       "                    document.getElementById('7a9afb76a3844cd994cb92a54408cbcb'), 'white', {renderer: 'canvas'});\n",
       "                var option_7a9afb76a3844cd994cb92a54408cbcb = {\n",
       "    \"animation\": true,\n",
       "    \"animationThreshold\": 2000,\n",
       "    \"animationDuration\": 1000,\n",
       "    \"animationEasing\": \"cubicOut\",\n",
       "    \"animationDelay\": 0,\n",
       "    \"animationDurationUpdate\": 300,\n",
       "    \"animationEasingUpdate\": \"cubicOut\",\n",
       "    \"animationDelayUpdate\": 0,\n",
       "    \"color\": [\n",
       "        \"#c23531\",\n",
       "        \"#2f4554\",\n",
       "        \"#61a0a8\",\n",
       "        \"#d48265\",\n",
       "        \"#749f83\",\n",
       "        \"#ca8622\",\n",
       "        \"#bda29a\",\n",
       "        \"#6e7074\",\n",
       "        \"#546570\",\n",
       "        \"#c4ccd3\",\n",
       "        \"#f05b72\",\n",
       "        \"#ef5b9c\",\n",
       "        \"#f47920\",\n",
       "        \"#905a3d\",\n",
       "        \"#fab27b\",\n",
       "        \"#2a5caa\",\n",
       "        \"#444693\",\n",
       "        \"#726930\",\n",
       "        \"#b2d235\",\n",
       "        \"#6d8346\",\n",
       "        \"#ac6767\",\n",
       "        \"#1d953f\",\n",
       "        \"#6950a1\",\n",
       "        \"#918597\"\n",
       "    ],\n",
       "    \"series\": [\n",
       "        {\n",
       "            \"type\": \"pie\",\n",
       "            \"name\": \"\\u98df\\u7269\\uff1a\",\n",
       "            \"clockwise\": true,\n",
       "            \"data\": [\n",
       "                {\n",
       "                    \"name\": \"\\u86cb\\u7cd5\",\n",
       "                    \"value\": 25\n",
       "                },\n",
       "                {\n",
       "                    \"name\": \"\\u7ea2\\u70e7\\u8089\",\n",
       "                    \"value\": 25\n",
       "                },\n",
       "                {\n",
       "                    \"name\": \"\\u9e21\\u86cb\",\n",
       "                    \"value\": 13\n",
       "                }\n",
       "            ],\n",
       "            \"radius\": [\n",
       "                0,\n",
       "                \"30%\"\n",
       "            ],\n",
       "            \"center\": [\n",
       "                \"50%\",\n",
       "                \"50%\"\n",
       "            ],\n",
       "            \"label\": {\n",
       "                \"show\": true,\n",
       "                \"position\": \"inner\",\n",
       "                \"margin\": 8\n",
       "            },\n",
       "            \"tooltip\": {\n",
       "                \"show\": true,\n",
       "                \"trigger\": \"item\",\n",
       "                \"triggerOn\": \"mousemove|click\",\n",
       "                \"axisPointer\": {\n",
       "                    \"type\": \"line\"\n",
       "                },\n",
       "                \"formatter\": \"{a} <br/>{b}: {c} ({d}%)\",\n",
       "                \"textStyle\": {\n",
       "                    \"fontSize\": 14\n",
       "                },\n",
       "                \"borderWidth\": 0\n",
       "            },\n",
       "            \"rippleEffect\": {\n",
       "                \"show\": true,\n",
       "                \"brushType\": \"stroke\",\n",
       "                \"scale\": 2.5,\n",
       "                \"period\": 4\n",
       "            }\n",
       "        },\n",
       "        {\n",
       "            \"type\": \"pie\",\n",
       "            \"name\": \"\\u98df\\u7269\\uff1a\",\n",
       "            \"clockwise\": true,\n",
       "            \"data\": [\n",
       "                {\n",
       "                    \"name\": \"\\u86cb\\u7cd5\",\n",
       "                    \"value\": 25\n",
       "                },\n",
       "                {\n",
       "                    \"name\": \"\\u7ea2\\u70e7\\u8089\",\n",
       "                    \"value\": 25\n",
       "                },\n",
       "                {\n",
       "                    \"name\": \"\\u9e21\\u86cb\",\n",
       "                    \"value\": 13\n",
       "                },\n",
       "                {\n",
       "                    \"name\": \"\\u9e21\\u8089\",\n",
       "                    \"value\": 9\n",
       "                },\n",
       "                {\n",
       "                    \"name\": \"\\u9178\\u5976\",\n",
       "                    \"value\": 6\n",
       "                },\n",
       "                {\n",
       "                    \"name\": \"\\u6728\\u8033\",\n",
       "                    \"value\": 5\n",
       "                },\n",
       "                {\n",
       "                    \"name\": \"\\u8c46\\u8150\",\n",
       "                    \"value\": 5\n",
       "                },\n",
       "                {\n",
       "                    \"name\": \"\\u9ec4\\u74dc\",\n",
       "                    \"value\": 5\n",
       "                },\n",
       "                {\n",
       "                    \"name\": \"\\u9999\\u8549\",\n",
       "                    \"value\": 4\n",
       "                },\n",
       "                {\n",
       "                    \"name\": \"\\u7c73\\u996d\",\n",
       "                    \"value\": 3\n",
       "                }\n",
       "            ],\n",
       "            \"radius\": [\n",
       "                \"40%\",\n",
       "                \"55%\"\n",
       "            ],\n",
       "            \"center\": [\n",
       "                \"50%\",\n",
       "                \"50%\"\n",
       "            ],\n",
       "            \"label\": {\n",
       "                \"show\": true,\n",
       "                \"position\": \"outside\",\n",
       "                \"margin\": 8,\n",
       "                \"formatter\": \"{a|{a}}{abg|}\\n{hr|}\\n {b|{b}: }{c}  {per|{d}%}  \",\n",
       "                \"backgroundColor\": \"#eee\",\n",
       "                \"borderColor\": \"#aaa\",\n",
       "                \"borderWidth\": 1,\n",
       "                \"borderRadius\": 4,\n",
       "                \"rich\": {\n",
       "                    \"a\": {\n",
       "                        \"color\": \"#999\",\n",
       "                        \"lineHeight\": 22,\n",
       "                        \"align\": \"center\"\n",
       "                    },\n",
       "                    \"abg\": {\n",
       "                        \"backgroundColor\": \"#e3e3e3\",\n",
       "                        \"width\": \"100%\",\n",
       "                        \"align\": \"right\",\n",
       "                        \"height\": 22,\n",
       "                        \"borderRadius\": [\n",
       "                            4,\n",
       "                            4,\n",
       "                            0,\n",
       "                            0\n",
       "                        ]\n",
       "                    },\n",
       "                    \"hr\": {\n",
       "                        \"borderColor\": \"#aaa\",\n",
       "                        \"width\": \"100%\",\n",
       "                        \"borderWidth\": 0.5,\n",
       "                        \"height\": 0\n",
       "                    },\n",
       "                    \"b\": {\n",
       "                        \"fontSize\": 16,\n",
       "                        \"lineHeight\": 33\n",
       "                    },\n",
       "                    \"per\": {\n",
       "                        \"color\": \"#eee\",\n",
       "                        \"backgroundColor\": \"#334455\",\n",
       "                        \"padding\": [\n",
       "                            2,\n",
       "                            4\n",
       "                        ],\n",
       "                        \"borderRadius\": 2\n",
       "                    }\n",
       "                }\n",
       "            },\n",
       "            \"tooltip\": {\n",
       "                \"show\": true,\n",
       "                \"trigger\": \"item\",\n",
       "                \"triggerOn\": \"mousemove|click\",\n",
       "                \"axisPointer\": {\n",
       "                    \"type\": \"line\"\n",
       "                },\n",
       "                \"formatter\": \"{a} <br/>{b}: {c} ({d}%)\",\n",
       "                \"textStyle\": {\n",
       "                    \"fontSize\": 14\n",
       "                },\n",
       "                \"borderWidth\": 0\n",
       "            },\n",
       "            \"rippleEffect\": {\n",
       "                \"show\": true,\n",
       "                \"brushType\": \"stroke\",\n",
       "                \"scale\": 2.5,\n",
       "                \"period\": 4\n",
       "            }\n",
       "        }\n",
       "    ],\n",
       "    \"legend\": [\n",
       "        {\n",
       "            \"data\": [\n",
       "                \"\\u86cb\\u7cd5\",\n",
       "                \"\\u7ea2\\u70e7\\u8089\",\n",
       "                \"\\u9e21\\u86cb\",\n",
       "                \"\\u9e21\\u8089\",\n",
       "                \"\\u9178\\u5976\",\n",
       "                \"\\u6728\\u8033\",\n",
       "                \"\\u8c46\\u8150\",\n",
       "                \"\\u9ec4\\u74dc\",\n",
       "                \"\\u9999\\u8549\",\n",
       "                \"\\u7c73\\u996d\"\n",
       "            ],\n",
       "            \"selected\": {},\n",
       "            \"show\": true,\n",
       "            \"left\": \"left\",\n",
       "            \"orient\": \"vertical\",\n",
       "            \"padding\": 5,\n",
       "            \"itemGap\": 10,\n",
       "            \"itemWidth\": 25,\n",
       "            \"itemHeight\": 14\n",
       "        }\n",
       "    ],\n",
       "    \"tooltip\": {\n",
       "        \"show\": true,\n",
       "        \"trigger\": \"item\",\n",
       "        \"triggerOn\": \"mousemove|click\",\n",
       "        \"axisPointer\": {\n",
       "            \"type\": \"line\"\n",
       "        },\n",
       "        \"textStyle\": {\n",
       "            \"fontSize\": 14\n",
       "        },\n",
       "        \"borderWidth\": 0\n",
       "    },\n",
       "    \"title\": [\n",
       "        {\n",
       "            \"padding\": 5,\n",
       "            \"itemGap\": 10\n",
       "        }\n",
       "    ]\n",
       "};\n",
       "                chart_7a9afb76a3844cd994cb92a54408cbcb.setOption(option_7a9afb76a3844cd994cb92a54408cbcb);\n",
       "        });\n",
       "    </script>\n"
      ],
      "text/plain": [
       "<pyecharts.render.display.HTML at 0x2970f7f86c8>"
      ]
     },
     "execution_count": 50,
     "metadata": {},
     "output_type": "execute_result"
    }
   ],
   "source": [
    "#pyecharts完成数据可视化展示\n",
    "import pyecharts.options as opts\n",
    "from pyecharts.charts import Pie\n",
    "inner_x_data = [\"蛋糕\", \"红烧肉\", \"鸡蛋\"]\n",
    "inner_y_data = [25, 25, 13]\n",
    "inner_data_pair = [list(z) for z in zip(inner_x_data, inner_y_data)]\n",
    "\n",
    "outer_x_data = [\"蛋糕\", \"红烧肉\", \"鸡蛋\", \"鸡肉\", \"酸奶\", \"木耳\", \"豆腐\", \"黄瓜\", \"香蕉\",\"米饭\"]\n",
    "outer_y_data = [25, 25, 13, 9, 6,5, 5, 5, 4, 3]\n",
    "\n",
    "#x_data = [\"蛋糕\", \"红烧肉\", \"鸡蛋\", \"鸡肉\", \"酸奶\", \"木耳\", \"豆腐\", \"黄瓜\", \"香蕉\",\"米饭\"]\n",
    "#y_data = [25, 25, 13, 9, 6,5, 5, 5, 4, 3]\n",
    "outer_data_pair = [list(z) for z in zip(outer_x_data, outer_y_data)]\n",
    "\n",
    "(\n",
    "    Pie(init_opts=opts.InitOpts(width=\"1000px\", height=\"600px\"))\n",
    "    .add(\n",
    "        series_name=\"食物：\",\n",
    "        data_pair=inner_data_pair,\n",
    "        radius=[0, \"30%\"],\n",
    "        label_opts=opts.LabelOpts(position=\"inner\"),\n",
    "    )\n",
    "    .add(\n",
    "        series_name=\"食物：\",\n",
    "        radius=[\"40%\", \"55%\"],\n",
    "        data_pair=outer_data_pair,\n",
    "        label_opts=opts.LabelOpts(\n",
    "            position=\"outside\",\n",
    "            formatter=\"{a|{a}}{abg|}\\n{hr|}\\n {b|{b}: }{c}  {per|{d}%}  \",\n",
    "            background_color=\"#eee\",\n",
    "            border_color=\"#aaa\",\n",
    "            border_width=1,\n",
    "            border_radius=4,\n",
    "            rich={\n",
    "                \"a\": {\"color\": \"#999\", \"lineHeight\": 22, \"align\": \"center\"},\n",
    "                \"abg\": {\n",
    "                    \"backgroundColor\": \"#e3e3e3\",\n",
    "                    \"width\": \"100%\",\n",
    "                    \"align\": \"right\",\n",
    "                    \"height\": 22,\n",
    "                    \"borderRadius\": [4, 4, 0, 0],\n",
    "                },\n",
    "                \"hr\": {\n",
    "                    \"borderColor\": \"#aaa\",\n",
    "                    \"width\": \"100%\",\n",
    "                    \"borderWidth\": 0.5,\n",
    "                    \"height\": 0,\n",
    "                },\n",
    "                \"b\": {\"fontSize\": 16, \"lineHeight\": 33},\n",
    "                \"per\": {\n",
    "                    \"color\": \"#eee\",\n",
    "                    \"backgroundColor\": \"#334455\",\n",
    "                    \"padding\": [2, 4],\n",
    "                    \"borderRadius\": 2,\n",
    "                },\n",
    "            },\n",
    "        ),\n",
    "    )\n",
    "    .set_global_opts(legend_opts=opts.LegendOpts(pos_left=\"left\", orient=\"vertical\"))\n",
    "    .set_series_opts(\n",
    "        tooltip_opts=opts.TooltipOpts(\n",
    "            trigger=\"item\", formatter=\"{a} <br/>{b}: {c} ({d}%)\"\n",
    "        )\n",
    "    )\n",
    "    .render_notebook()\n",
    ")\n",
    "\n"
   ]
  },
  {
   "cell_type": "markdown",
   "metadata": {},
   "source": [
    "```python\n",
    "经过对减肥人群最喜欢的食物分析过后，我们发现蛋糕，红烧肉，鸡蛋是人群喜欢的前三名。蛋糕和红烧肉几乎占到减肥人群喜欢的食物的一半。\n",
    "这两种食物是典型的高热量食物，这也就恰恰体现了肥胖人群之所以胖的不良饮食习惯。\n",
    "所以作为减肥的人，平时要注意食物热量的控制，少摄入高热量的食物，但同时也不要能量摄入过低。```"
   ]
  },
  {
   "cell_type": "markdown",
   "metadata": {},
   "source": [
    "### 3.3 基于男女对比数据表进行分析"
   ]
  },
  {
   "cell_type": "markdown",
   "metadata": {},
   "source": [
    "意义：男女对比数据集中，展示了男性女性不同的减肥目的，最关心的减肥部位等方面的数据。通过对这些数据进行分析，男女对比，体现性别对减肥影响\n",
    "```python\n",
    "1.首先对减肥人群中男女占比进行分析\n",
    "2.分别分析男女的减肥目的\n",
    "3.将减肥人群关心的减肥部位进行排名，进行相应分析\n",
    "4.分析导致减肥失败的原因```"
   ]
  },
  {
   "cell_type": "markdown",
   "metadata": {},
   "source": [
    "#### 1.对减肥人群性别进行分析"
   ]
  },
  {
   "cell_type": "code",
   "execution_count": 130,
   "metadata": {},
   "outputs": [
    {
     "data": {
      "text/plain": [
       "女    794\n",
       "男    206\n",
       "Name: 关心减肥的人群性别, dtype: int64"
      ]
     },
     "execution_count": 130,
     "metadata": {},
     "output_type": "execute_result"
    }
   ],
   "source": [
    "#数据准备\n",
    "df3.关心减肥的人群性别.value_counts()"
   ]
  },
  {
   "cell_type": "code",
   "execution_count": 52,
   "metadata": {},
   "outputs": [
    {
     "data": {
      "text/html": [
       "\n",
       "<script>\n",
       "    require.config({\n",
       "        paths: {\n",
       "            'echarts':'https://assets.pyecharts.org/assets/echarts.min', 'echarts-liquidfill':'https://assets.pyecharts.org/assets/echarts-liquidfill.min'\n",
       "        }\n",
       "    });\n",
       "</script>\n",
       "\n",
       "        <div id=\"ef7edc36b3564c9e86caafa2f792211a\" style=\"width:900px; height:500px;\"></div>\n",
       "\n",
       "<script>\n",
       "        require(['echarts', 'echarts-liquidfill'], function(echarts) {\n",
       "                var chart_ef7edc36b3564c9e86caafa2f792211a = echarts.init(\n",
       "                    document.getElementById('ef7edc36b3564c9e86caafa2f792211a'), 'white', {renderer: 'canvas'});\n",
       "                var option_ef7edc36b3564c9e86caafa2f792211a = {\n",
       "    \"animation\": true,\n",
       "    \"animationThreshold\": 2000,\n",
       "    \"animationDuration\": 1000,\n",
       "    \"animationEasing\": \"cubicOut\",\n",
       "    \"animationDelay\": 0,\n",
       "    \"animationDurationUpdate\": 300,\n",
       "    \"animationEasingUpdate\": \"cubicOut\",\n",
       "    \"animationDelayUpdate\": 0,\n",
       "    \"color\": [\n",
       "        \"#c23531\",\n",
       "        \"#2f4554\",\n",
       "        \"#61a0a8\",\n",
       "        \"#d48265\",\n",
       "        \"#749f83\",\n",
       "        \"#ca8622\",\n",
       "        \"#bda29a\",\n",
       "        \"#6e7074\",\n",
       "        \"#546570\",\n",
       "        \"#c4ccd3\",\n",
       "        \"#f05b72\",\n",
       "        \"#ef5b9c\",\n",
       "        \"#f47920\",\n",
       "        \"#905a3d\",\n",
       "        \"#fab27b\",\n",
       "        \"#2a5caa\",\n",
       "        \"#444693\",\n",
       "        \"#726930\",\n",
       "        \"#b2d235\",\n",
       "        \"#6d8346\",\n",
       "        \"#ac6767\",\n",
       "        \"#1d953f\",\n",
       "        \"#6950a1\",\n",
       "        \"#918597\"\n",
       "    ],\n",
       "    \"series\": [\n",
       "        {\n",
       "            \"type\": \"liquidFill\",\n",
       "            \"name\": \"lq\",\n",
       "            \"data\": [\n",
       "                0.21,\n",
       "                0.21\n",
       "            ],\n",
       "            \"waveAnimation\": true,\n",
       "            \"animationDuration\": 2000,\n",
       "            \"animationDurationUpdate\": 1000,\n",
       "            \"color\": [\n",
       "                \"#294D99\",\n",
       "                \"#156ACF\",\n",
       "                \"#1598ED\",\n",
       "                \"#45BDFF\"\n",
       "            ],\n",
       "            \"shape\": \"circle\",\n",
       "            \"outline\": {\n",
       "                \"show\": true\n",
       "            },\n",
       "            \"label\": {\n",
       "                \"show\": true,\n",
       "                \"position\": \"inside\",\n",
       "                \"margin\": 8,\n",
       "                \"fontSize\": 50\n",
       "            },\n",
       "            \"center\": [\n",
       "                \"60%\",\n",
       "                \"50%\"\n",
       "            ],\n",
       "            \"xAxisIndex\": 0,\n",
       "            \"yAxisIndex\": 0\n",
       "        },\n",
       "        {\n",
       "            \"type\": \"liquidFill\",\n",
       "            \"name\": \"lq\",\n",
       "            \"data\": [\n",
       "                0.79\n",
       "            ],\n",
       "            \"waveAnimation\": true,\n",
       "            \"animationDuration\": 2000,\n",
       "            \"animationDurationUpdate\": 1000,\n",
       "            \"color\": [\n",
       "                \"#294D99\",\n",
       "                \"#156ACF\",\n",
       "                \"#1598ED\",\n",
       "                \"#45BDFF\"\n",
       "            ],\n",
       "            \"shape\": \"circle\",\n",
       "            \"outline\": {\n",
       "                \"show\": true\n",
       "            },\n",
       "            \"label\": {\n",
       "                \"show\": true,\n",
       "                \"position\": \"inside\",\n",
       "                \"margin\": 8,\n",
       "                \"fontSize\": 50,\n",
       "                \"formatter\": function (param) {return (Math.floor(param.value * 10000) / 100) + '%';}\n",
       "            },\n",
       "            \"center\": [\n",
       "                \"25%\",\n",
       "                \"50%\"\n",
       "            ],\n",
       "            \"xAxisIndex\": 1,\n",
       "            \"yAxisIndex\": 1\n",
       "        }\n",
       "    ],\n",
       "    \"legend\": [\n",
       "        {\n",
       "            \"data\": [],\n",
       "            \"selected\": {},\n",
       "            \"show\": true,\n",
       "            \"padding\": 5,\n",
       "            \"itemGap\": 10,\n",
       "            \"itemWidth\": 25,\n",
       "            \"itemHeight\": 14\n",
       "        },\n",
       "        {\n",
       "            \"data\": [],\n",
       "            \"selected\": {}\n",
       "        }\n",
       "    ],\n",
       "    \"tooltip\": {\n",
       "        \"show\": true,\n",
       "        \"trigger\": \"item\",\n",
       "        \"triggerOn\": \"mousemove|click\",\n",
       "        \"axisPointer\": {\n",
       "            \"type\": \"line\"\n",
       "        },\n",
       "        \"textStyle\": {\n",
       "            \"fontSize\": 14\n",
       "        },\n",
       "        \"borderWidth\": 0\n",
       "    },\n",
       "    \"title\": [\n",
       "        {\n",
       "            \"text\": \"\\u51cf\\u80a5\\u4eba\\u7fa4\\u6027\\u522b\\u6bd4\\u4f8b\\uff08\\u5973\\u2190\\u56fe\\u2192\\u7537\\uff09\",\n",
       "            \"padding\": 5,\n",
       "            \"itemGap\": 10\n",
       "        },\n",
       "        {\n",
       "            \"padding\": 5,\n",
       "            \"itemGap\": 10\n",
       "        }\n",
       "    ],\n",
       "    \"grid\": [\n",
       "        {\n",
       "            \"containLabel\": false\n",
       "        },\n",
       "        {\n",
       "            \"containLabel\": false\n",
       "        }\n",
       "    ]\n",
       "};\n",
       "                chart_ef7edc36b3564c9e86caafa2f792211a.setOption(option_ef7edc36b3564c9e86caafa2f792211a);\n",
       "        });\n",
       "    </script>\n"
      ],
      "text/plain": [
       "<pyecharts.render.display.HTML at 0x2970f8b5188>"
      ]
     },
     "execution_count": 52,
     "metadata": {},
     "output_type": "execute_result"
    }
   ],
   "source": [
    "#pyecharts完成数据可视化展示\n",
    "from pyecharts import options as opts\n",
    "from pyecharts.charts import Grid, Liquid\n",
    "from pyecharts.commons.utils import JsCode\n",
    "l1 = (Liquid().add(\"lq\", [0.21, 0.21], center=[\"60%\", \"50%\"]).set_global_opts(title_opts=opts.TitleOpts(title=\"减肥人群性别比例（女←图→男）\")))\n",
    "l2 = Liquid().add(\"lq\",[0.79],center=[\"25%\", \"50%\"],label_opts=opts.LabelOpts(font_size=50,formatter=JsCode(\n",
    "\"\"\"function (param) {return (Math.floor(param.value * 10000) / 100) + '%';}\"\"\"),position=\"inside\",),) \n",
    "\n",
    "grid = Grid().add(l1, grid_opts=opts.GridOpts()).add(l2, grid_opts=opts.GridOpts())\n",
    "grid.render_notebook()"
   ]
  },
  {
   "cell_type": "markdown",
   "metadata": {},
   "source": [
    "```python\n",
    "数据来源于.人民网微博用户研究中心报告中。减肥人群中女性达到79%，而男性仅占21%。\n",
    "女生天生爱美，曼妙身材必不可少，由上图也足以印证，女生减肥的数量约为男生数量的4倍，女性群体是减肥生力军。```"
   ]
  },
  {
   "cell_type": "markdown",
   "metadata": {},
   "source": [
    "#### 2.对男女减肥目的进行对比分析"
   ]
  },
  {
   "cell_type": "code",
   "execution_count": 54,
   "metadata": {},
   "outputs": [
    {
     "data": {
      "text/plain": [
       "变帅        99\n",
       "提升健康程度    60\n",
       "其他        44\n",
       "Name: 减肥目的, dtype: int64"
      ]
     },
     "execution_count": 54,
     "metadata": {},
     "output_type": "execute_result"
    }
   ],
   "source": [
    "#对男性减肥目的进行统计分析\n",
    "db['减肥目的'].value_counts()"
   ]
  },
  {
   "cell_type": "code",
   "execution_count": 55,
   "metadata": {},
   "outputs": [
    {
     "data": {
      "text/plain": [
       "Text(0.5, 1.0, '男性')"
      ]
     },
     "execution_count": 55,
     "metadata": {},
     "output_type": "execute_result"
    },
    {
     "data": {
      "image/png": "[encoded data removed]",
      "text/plain": [
       "<Figure size 432x288 with 1 Axes>"
      ]
     },
     "metadata": {},
     "output_type": "display_data"
    }
   ],
   "source": [
    "labels=['提升健康程度','变帅','其他']\n",
    "sizes=[99,60,44]\n",
    "colors=['steelblue','lightskyblue','lightblue']\n",
    "plt.pie(sizes,labels=labels,colors=colors,autopct='%1.1f%%',shadow=False,labeldistance=0.3)\n",
    "plt.title('男性')"
   ]
  },
  {
   "cell_type": "code",
   "execution_count": 56,
   "metadata": {},
   "outputs": [],
   "source": [
    "#对女性减肥目的数据进行清洗\n",
    "de=df3.loc[df3['关心减肥的人群性别']=='女']"
   ]
  },
  {
   "cell_type": "code",
   "execution_count": 57,
   "metadata": {},
   "outputs": [],
   "source": [
    "dg=de.drop(index=(de.loc[(de['减肥目的']=='未作答')].index))"
   ]
  },
  {
   "cell_type": "code",
   "execution_count": 58,
   "metadata": {},
   "outputs": [
    {
     "data": {
      "text/plain": [
       "提升健康程度    420\n",
       "让自己变美     277\n",
       "其他         94\n",
       "Name: 减肥目的, dtype: int64"
      ]
     },
     "execution_count": 58,
     "metadata": {},
     "output_type": "execute_result"
    }
   ],
   "source": [
    "#对女性减肥目的进行统计分析\n",
    "dg['减肥目的'].value_counts()"
   ]
  },
  {
   "cell_type": "code",
   "execution_count": 59,
   "metadata": {},
   "outputs": [
    {
     "data": {
      "text/plain": [
       "Text(0.5, 1.0, '女性')"
      ]
     },
     "execution_count": 59,
     "metadata": {},
     "output_type": "execute_result"
    },
    {
     "data": {
      "image/png": "[encoded data removed]",
      "text/plain": [
       "<Figure size 432x288 with 1 Axes>"
      ]
     },
     "metadata": {},
     "output_type": "display_data"
    }
   ],
   "source": [
    "labels=['提升健康程度','让自己变美','其他']\n",
    "sizes=[420,277,94]\n",
    "colors=['palevioletred','lightpink','lavenderblush']\n",
    "plt.pie(sizes,labels=labels,colors=colors,autopct='%1.1f%%',shadow=False,labeldistance=0.3)\n",
    "plt.title('女性')"
   ]
  },
  {
   "cell_type": "markdown",
   "metadata": {},
   "source": [
    "```python\n",
    "由男女减肥目的对比可以看出，无论性别，人们减肥最在意的还是提升健康程度，\n",
    "除此之外，女性减肥目的是为了提升外在形象35%相对男性的29.6%来说略高，这与女性更在乎自己的外在形象相对应。```"
   ]
  },
  {
   "cell_type": "markdown",
   "metadata": {},
   "source": [
    "#### 3.对减肥人群最关心的减肥部位进行分析"
   ]
  },
  {
   "cell_type": "code",
   "execution_count": 60,
   "metadata": {},
   "outputs": [
    {
     "data": {
      "text/plain": [
       "肚子    312\n",
       "脸蛋    282\n",
       "大腿    237\n",
       "屁股     73\n",
       "小腿     50\n",
       "胳膊     46\n",
       "Name: 关心的减肥部位, dtype: int64"
      ]
     },
     "execution_count": 60,
     "metadata": {},
     "output_type": "execute_result"
    }
   ],
   "source": [
    "#对减肥人群最关心的减肥部位进行统计分析\n",
    "df3['关心的减肥部位'].value_counts()"
   ]
  },
  {
   "cell_type": "code",
   "execution_count": 61,
   "metadata": {},
   "outputs": [
    {
     "data": {
      "text/html": [
       "\n",
       "<script>\n",
       "    require.config({\n",
       "        paths: {\n",
       "            'echarts':'https://assets.pyecharts.org/assets/echarts.min'\n",
       "        }\n",
       "    });\n",
       "</script>\n",
       "\n",
       "        <div id=\"87cb3b157c7a40fc96e6b380ae686913\" style=\"width:900px; height:500px;\"></div>\n",
       "\n",
       "<script>\n",
       "        require(['echarts'], function(echarts) {\n",
       "                var chart_87cb3b157c7a40fc96e6b380ae686913 = echarts.init(\n",
       "                    document.getElementById('87cb3b157c7a40fc96e6b380ae686913'), 'white', {renderer: 'canvas'});\n",
       "                var option_87cb3b157c7a40fc96e6b380ae686913 = {\n",
       "    \"animation\": true,\n",
       "    \"animationThreshold\": 2000,\n",
       "    \"animationDuration\": 1000,\n",
       "    \"animationEasing\": \"cubicOut\",\n",
       "    \"animationDelay\": 0,\n",
       "    \"animationDurationUpdate\": 300,\n",
       "    \"animationEasingUpdate\": \"cubicOut\",\n",
       "    \"animationDelayUpdate\": 0,\n",
       "    \"color\": [\n",
       "        \"#c23531\",\n",
       "        \"#2f4554\",\n",
       "        \"#61a0a8\",\n",
       "        \"#d48265\",\n",
       "        \"#749f83\",\n",
       "        \"#ca8622\",\n",
       "        \"#bda29a\",\n",
       "        \"#6e7074\",\n",
       "        \"#546570\",\n",
       "        \"#c4ccd3\",\n",
       "        \"#f05b72\",\n",
       "        \"#ef5b9c\",\n",
       "        \"#f47920\",\n",
       "        \"#905a3d\",\n",
       "        \"#fab27b\",\n",
       "        \"#2a5caa\",\n",
       "        \"#444693\",\n",
       "        \"#726930\",\n",
       "        \"#b2d235\",\n",
       "        \"#6d8346\",\n",
       "        \"#ac6767\",\n",
       "        \"#1d953f\",\n",
       "        \"#6950a1\",\n",
       "        \"#918597\"\n",
       "    ],\n",
       "    \"series\": [\n",
       "        {\n",
       "            \"type\": \"bar\",\n",
       "            \"name\": \"\\u90e8\\u4f4d\",\n",
       "            \"data\": [\n",
       "                312,\n",
       "                282,\n",
       "                237,\n",
       "                73,\n",
       "                50,\n",
       "                46\n",
       "            ],\n",
       "            \"barCategoryGap\": \"20%\",\n",
       "            \"label\": {\n",
       "                \"show\": true,\n",
       "                \"position\": \"top\",\n",
       "                \"margin\": 8\n",
       "            }\n",
       "        }\n",
       "    ],\n",
       "    \"legend\": [\n",
       "        {\n",
       "            \"data\": [\n",
       "                \"\\u90e8\\u4f4d\"\n",
       "            ],\n",
       "            \"selected\": {\n",
       "                \"\\u90e8\\u4f4d\": true\n",
       "            }\n",
       "        }\n",
       "    ],\n",
       "    \"tooltip\": {\n",
       "        \"show\": true,\n",
       "        \"trigger\": \"item\",\n",
       "        \"triggerOn\": \"mousemove|click\",\n",
       "        \"axisPointer\": {\n",
       "            \"type\": \"line\"\n",
       "        },\n",
       "        \"textStyle\": {\n",
       "            \"fontSize\": 14\n",
       "        },\n",
       "        \"borderWidth\": 0\n",
       "    },\n",
       "    \"xAxis\": [\n",
       "        {\n",
       "            \"show\": true,\n",
       "            \"scale\": false,\n",
       "            \"nameLocation\": \"end\",\n",
       "            \"nameGap\": 15,\n",
       "            \"gridIndex\": 0,\n",
       "            \"inverse\": false,\n",
       "            \"offset\": 0,\n",
       "            \"splitNumber\": 5,\n",
       "            \"minInterval\": 0,\n",
       "            \"splitLine\": {\n",
       "                \"show\": false,\n",
       "                \"lineStyle\": {\n",
       "                    \"show\": true,\n",
       "                    \"width\": 1,\n",
       "                    \"opacity\": 1,\n",
       "                    \"curveness\": 0,\n",
       "                    \"type\": \"solid\"\n",
       "                }\n",
       "            },\n",
       "            \"data\": [\n",
       "                \"\\u809a\\u5b50\",\n",
       "                \"\\u8138\\u86cb\",\n",
       "                \"\\u5927\\u817f\",\n",
       "                \"\\u5c41\\u80a1\",\n",
       "                \"\\u5c0f\\u817f\",\n",
       "                \"\\u80f3\\u818a\"\n",
       "            ]\n",
       "        }\n",
       "    ],\n",
       "    \"yAxis\": [\n",
       "        {\n",
       "            \"show\": true,\n",
       "            \"scale\": false,\n",
       "            \"nameLocation\": \"end\",\n",
       "            \"nameGap\": 15,\n",
       "            \"gridIndex\": 0,\n",
       "            \"inverse\": false,\n",
       "            \"offset\": 0,\n",
       "            \"splitNumber\": 5,\n",
       "            \"minInterval\": 0,\n",
       "            \"splitLine\": {\n",
       "                \"show\": false,\n",
       "                \"lineStyle\": {\n",
       "                    \"show\": true,\n",
       "                    \"width\": 1,\n",
       "                    \"opacity\": 1,\n",
       "                    \"curveness\": 0,\n",
       "                    \"type\": \"solid\"\n",
       "                }\n",
       "            }\n",
       "        }\n",
       "    ]\n",
       "};\n",
       "                chart_87cb3b157c7a40fc96e6b380ae686913.setOption(option_87cb3b157c7a40fc96e6b380ae686913);\n",
       "        });\n",
       "    </script>\n"
      ],
      "text/plain": [
       "<pyecharts.render.display.HTML at 0x2970f972dc8>"
      ]
     },
     "execution_count": 61,
     "metadata": {},
     "output_type": "execute_result"
    }
   ],
   "source": [
    "#基于pyecharts作图\n",
    "from pyecharts.charts import Bar\n",
    "bar=Bar()\n",
    "bar.add_xaxis(['肚子','脸蛋','大腿','屁股','小腿','胳膊'])\n",
    "bar.add_yaxis(\"部位\",[312,282,237,73,50,46])\n",
    "bar.render_notebook()"
   ]
  },
  {
   "cell_type": "markdown",
   "metadata": {},
   "source": [
    "```python\n",
    "由上图可以清晰看出，无论男女，大家最想减的部位是肚子。\n",
    "现代从事脑力工作的人群愈发壮大，许多人每日都保持“伏案”生活和工作状态，伏案而坐、伏案疾书、伏案工作、伏案而睡，同时又缺乏必要的身体锻炼，导致多余脂肪无法消耗，堆积在身体各个部位。\n",
    "而腹部脂肪堆积往往与饮食过量之后又缺乏运动导致脂肪堆积,这也与长期“伏案”的工作状态有着必然联系。\n",
    "其次是脸蛋，这与上面分析的男女减肥目的中减肥目的为的是变美相呼应。```"
   ]
  },
  {
   "cell_type": "markdown",
   "metadata": {},
   "source": [
    "#### 4.对导致减肥失败的原因进行分析"
   ]
  },
  {
   "cell_type": "code",
   "execution_count": 62,
   "metadata": {},
   "outputs": [
    {
     "data": {
      "image/png": "[encoded data removed]",
      "text/plain": [
       "<IPython.core.display.Image object>"
      ]
     },
     "execution_count": 62,
     "metadata": {
      "image/png": {
       "height": 400,
       "width": 400
      }
     },
     "output_type": "execute_result"
    }
   ],
   "source": [
    "#对导致减肥失败的原因进行分析\n",
    "#插入镝数软件做的图\n",
    "Image(filename = 'man.png',width=400,height=400)"
   ]
  },
  {
   "cell_type": "markdown",
   "metadata": {},
   "source": [
    "```python\n",
    "我们通过人民网微博用户研究中心的现有数据，运用镝数这款作图软件，做出此图。\n",
    "由图清晰可见，导致减肥失败的原因中，控制不住饮食占了52%。\n",
    "而其他的原因中，与运动相关的原因也占比不小。知道哪些原因导致减肥失败了之后，接下来就看大家怎么去克服了。```"
   ]
  },
  {
   "cell_type": "markdown",
   "metadata": {},
   "source": [
    "### 3.4 基于运动方面数据表进行分析"
   ]
  },
  {
   "cell_type": "markdown",
   "metadata": {},
   "source": [
    "意义：运动方面数据集中，展示了减肥人群中运动减肥男女占比，运动方式，运动目的等方面的数据。通过对这些数据进行分析，对减肥人群运动方面的事情有所了解。\n",
    "```python\n",
    "1.首先对近些年健身俱乐部的数量进行分析\n",
    "2.展示健身人群性别比例\n",
    "3.对运动人群的运动目的进行分析\n",
    "4.分析女性最喜欢的运动方式\n",
    "5.展示运动方式能量消耗排名```"
   ]
  },
  {
   "cell_type": "markdown",
   "metadata": {},
   "source": [
    "#### 1.对近些年健身俱乐部的数量进行分析"
   ]
  },
  {
   "cell_type": "code",
   "execution_count": 63,
   "metadata": {},
   "outputs": [
    {
     "data": {
      "text/html": [
       "\n",
       "<script>\n",
       "    require.config({\n",
       "        paths: {\n",
       "            'echarts':'https://assets.pyecharts.org/assets/echarts.min'\n",
       "        }\n",
       "    });\n",
       "</script>\n",
       "\n",
       "        <div id=\"9dd002cc6d0e4e2b8566803665ca3858\" style=\"width:800px; height:400px;\"></div>\n",
       "\n",
       "<script>\n",
       "        require(['echarts'], function(echarts) {\n",
       "                var chart_9dd002cc6d0e4e2b8566803665ca3858 = echarts.init(\n",
       "                    document.getElementById('9dd002cc6d0e4e2b8566803665ca3858'), 'white', {renderer: 'canvas'});\n",
       "                var option_9dd002cc6d0e4e2b8566803665ca3858 = {\n",
       "    \"animation\": true,\n",
       "    \"animationThreshold\": 2000,\n",
       "    \"animationDuration\": 1000,\n",
       "    \"animationEasing\": \"cubicOut\",\n",
       "    \"animationDelay\": 0,\n",
       "    \"animationDurationUpdate\": 300,\n",
       "    \"animationEasingUpdate\": \"cubicOut\",\n",
       "    \"animationDelayUpdate\": 0,\n",
       "    \"color\": [\n",
       "        \"#c23531\",\n",
       "        \"#2f4554\",\n",
       "        \"#61a0a8\",\n",
       "        \"#d48265\",\n",
       "        \"#749f83\",\n",
       "        \"#ca8622\",\n",
       "        \"#bda29a\",\n",
       "        \"#6e7074\",\n",
       "        \"#546570\",\n",
       "        \"#c4ccd3\",\n",
       "        \"#f05b72\",\n",
       "        \"#ef5b9c\",\n",
       "        \"#f47920\",\n",
       "        \"#905a3d\",\n",
       "        \"#fab27b\",\n",
       "        \"#2a5caa\",\n",
       "        \"#444693\",\n",
       "        \"#726930\",\n",
       "        \"#b2d235\",\n",
       "        \"#6d8346\",\n",
       "        \"#ac6767\",\n",
       "        \"#1d953f\",\n",
       "        \"#6950a1\",\n",
       "        \"#918597\"\n",
       "    ],\n",
       "    \"series\": [\n",
       "        {\n",
       "            \"type\": \"bar\",\n",
       "            \"name\": \"\\u5065\\u8eab\\u4ff1\\u4e50\\u90e8\\u603b\\u6570\",\n",
       "            \"data\": [\n",
       "                3245,\n",
       "                3234,\n",
       "                3346,\n",
       "                3379,\n",
       "                3662,\n",
       "                4425,\n",
       "                4868,\n",
       "                5391,\n",
       "                5861\n",
       "            ],\n",
       "            \"barCategoryGap\": \"20%\",\n",
       "            \"label\": {\n",
       "                \"show\": false,\n",
       "                \"position\": \"top\",\n",
       "                \"margin\": 8\n",
       "            }\n",
       "        },\n",
       "        {\n",
       "            \"type\": \"line\",\n",
       "            \"name\": \"\\u589e\\u957f\\u7387\",\n",
       "            \"connectNulls\": false,\n",
       "            \"yAxisIndex\": 1,\n",
       "            \"symbolSize\": 4,\n",
       "            \"showSymbol\": true,\n",
       "            \"smooth\": false,\n",
       "            \"step\": false,\n",
       "            \"data\": [\n",
       "                [\n",
       "                    \"2010\",\n",
       "                    0\n",
       "                ],\n",
       "                [\n",
       "                    \"2011\",\n",
       "                    -0.34\n",
       "                ],\n",
       "                [\n",
       "                    \"2012\",\n",
       "                    3.11\n",
       "                ],\n",
       "                [\n",
       "                    \"2013\",\n",
       "                    4.12\n",
       "                ],\n",
       "                [\n",
       "                    \"2014\",\n",
       "                    8.38\n",
       "                ],\n",
       "                [\n",
       "                    \"2015\",\n",
       "                    12.85\n",
       "                ],\n",
       "                [\n",
       "                    \"2016\",\n",
       "                    36.36\n",
       "                ],\n",
       "                [\n",
       "                    \"2017\",\n",
       "                    50.02\n",
       "                ],\n",
       "                [\n",
       "                    \"2018\",\n",
       "                    66.13\n",
       "                ]\n",
       "            ],\n",
       "            \"hoverAnimation\": true,\n",
       "            \"label\": {\n",
       "                \"show\": false,\n",
       "                \"position\": \"top\",\n",
       "                \"margin\": 8\n",
       "            },\n",
       "            \"lineStyle\": {\n",
       "                \"show\": true,\n",
       "                \"width\": 1,\n",
       "                \"opacity\": 1,\n",
       "                \"curveness\": 0,\n",
       "                \"type\": \"solid\"\n",
       "            },\n",
       "            \"areaStyle\": {\n",
       "                \"opacity\": 0\n",
       "            },\n",
       "            \"zlevel\": 0,\n",
       "            \"z\": 0\n",
       "        }\n",
       "    ],\n",
       "    \"legend\": [\n",
       "        {\n",
       "            \"data\": [\n",
       "                \"\\u5065\\u8eab\\u4ff1\\u4e50\\u90e8\\u603b\\u6570\",\n",
       "                \"\\u589e\\u957f\\u7387\"\n",
       "            ],\n",
       "            \"selected\": {\n",
       "                \"\\u5065\\u8eab\\u4ff1\\u4e50\\u90e8\\u603b\\u6570\": true\n",
       "            },\n",
       "            \"show\": true,\n",
       "            \"padding\": 5,\n",
       "            \"itemGap\": 10,\n",
       "            \"itemWidth\": 25,\n",
       "            \"itemHeight\": 14\n",
       "        }\n",
       "    ],\n",
       "    \"tooltip\": {\n",
       "        \"show\": true,\n",
       "        \"trigger\": \"axis\",\n",
       "        \"triggerOn\": \"mousemove|click\",\n",
       "        \"axisPointer\": {\n",
       "            \"type\": \"cross\"\n",
       "        },\n",
       "        \"textStyle\": {\n",
       "            \"fontSize\": 14\n",
       "        },\n",
       "        \"borderWidth\": 0\n",
       "    },\n",
       "    \"xAxis\": [\n",
       "        {\n",
       "            \"type\": \"category\",\n",
       "            \"show\": true,\n",
       "            \"scale\": false,\n",
       "            \"nameLocation\": \"end\",\n",
       "            \"nameGap\": 15,\n",
       "            \"gridIndex\": 0,\n",
       "            \"axisPointer\": {\n",
       "                \"show\": true,\n",
       "                \"type\": \"shadow\"\n",
       "            },\n",
       "            \"inverse\": false,\n",
       "            \"offset\": 0,\n",
       "            \"splitNumber\": 5,\n",
       "            \"minInterval\": 0,\n",
       "            \"splitLine\": {\n",
       "                \"show\": false,\n",
       "                \"lineStyle\": {\n",
       "                    \"show\": true,\n",
       "                    \"width\": 1,\n",
       "                    \"opacity\": 1,\n",
       "                    \"curveness\": 0,\n",
       "                    \"type\": \"solid\"\n",
       "                }\n",
       "            },\n",
       "            \"data\": [\n",
       "                \"2010\",\n",
       "                \"2011\",\n",
       "                \"2012\",\n",
       "                \"2013\",\n",
       "                \"2014\",\n",
       "                \"2015\",\n",
       "                \"2016\",\n",
       "                \"2017\",\n",
       "                \"2018\"\n",
       "            ]\n",
       "        }\n",
       "    ],\n",
       "    \"yAxis\": [\n",
       "        {\n",
       "            \"type\": \"value\",\n",
       "            \"name\": \"\\u5065\\u8eab\\u4ff1\\u4e50\\u90e8\\u6570\\u91cf\",\n",
       "            \"show\": true,\n",
       "            \"scale\": false,\n",
       "            \"nameLocation\": \"end\",\n",
       "            \"nameGap\": 15,\n",
       "            \"interval\": 1000,\n",
       "            \"gridIndex\": 0,\n",
       "            \"axisTick\": {\n",
       "                \"show\": true,\n",
       "                \"alignWithLabel\": false,\n",
       "                \"inside\": false\n",
       "            },\n",
       "            \"axisLabel\": {\n",
       "                \"show\": true,\n",
       "                \"position\": \"top\",\n",
       "                \"margin\": 8,\n",
       "                \"formatter\": \"{value} \"\n",
       "            },\n",
       "            \"inverse\": false,\n",
       "            \"offset\": 0,\n",
       "            \"splitNumber\": 5,\n",
       "            \"min\": 1000,\n",
       "            \"max\": 7000,\n",
       "            \"minInterval\": 0,\n",
       "            \"splitLine\": {\n",
       "                \"show\": true,\n",
       "                \"lineStyle\": {\n",
       "                    \"show\": true,\n",
       "                    \"width\": 1,\n",
       "                    \"opacity\": 1,\n",
       "                    \"curveness\": 0,\n",
       "                    \"type\": \"solid\"\n",
       "                }\n",
       "            }\n",
       "        },\n",
       "        {\n",
       "            \"type\": \"value\",\n",
       "            \"name\": \"\\u589e\\u957f\\u7387\",\n",
       "            \"show\": true,\n",
       "            \"scale\": false,\n",
       "            \"nameLocation\": \"end\",\n",
       "            \"nameGap\": 15,\n",
       "            \"interval\": 20,\n",
       "            \"gridIndex\": 0,\n",
       "            \"axisLabel\": {\n",
       "                \"show\": true,\n",
       "                \"position\": \"top\",\n",
       "                \"margin\": 8,\n",
       "                \"formatter\": \"{value} %\"\n",
       "            },\n",
       "            \"inverse\": false,\n",
       "            \"offset\": 0,\n",
       "            \"splitNumber\": 5,\n",
       "            \"min\": -70,\n",
       "            \"max\": 70,\n",
       "            \"minInterval\": 0,\n",
       "            \"splitLine\": {\n",
       "                \"show\": false,\n",
       "                \"lineStyle\": {\n",
       "                    \"show\": true,\n",
       "                    \"width\": 1,\n",
       "                    \"opacity\": 1,\n",
       "                    \"curveness\": 0,\n",
       "                    \"type\": \"solid\"\n",
       "                }\n",
       "            }\n",
       "        }\n",
       "    ],\n",
       "    \"title\": [\n",
       "        {\n",
       "            \"padding\": 5,\n",
       "            \"itemGap\": 10\n",
       "        }\n",
       "    ]\n",
       "};\n",
       "                chart_9dd002cc6d0e4e2b8566803665ca3858.setOption(option_9dd002cc6d0e4e2b8566803665ca3858);\n",
       "        });\n",
       "    </script>\n"
      ],
      "text/plain": [
       "<pyecharts.render.display.HTML at 0x2971019f908>"
      ]
     },
     "execution_count": 63,
     "metadata": {},
     "output_type": "execute_result"
    }
   ],
   "source": [
    "#数据来源于中商情报网，通过pyecharts可视化展示健身俱乐部近九年的数量和增长情况\n",
    "import pyecharts.options as opts\n",
    "from pyecharts.charts import Bar, Line\n",
    "x_data = [\"2010\", \"2011\", \"2012\", \"2013\", \"2014\", \"2015\", \"2016\", \"2017\", \"2018\"]\n",
    "bar = (\n",
    "    Bar(init_opts=opts.InitOpts(width=\"800px\", height=\"400px\"))\n",
    "    .add_xaxis(xaxis_data=x_data)\n",
    "    .add_yaxis( series_name=\"健身俱乐部总数\",yaxis_data=[3245, 3234, 3346, 3379, 3662, 4425, 4868,  5391,  5861  ],\n",
    "        label_opts=opts.LabelOpts(is_show=False),   )\n",
    "    .extend_axis(yaxis=opts.AxisOpts( name=\"增长率\", type_=\"value\", min_=-70, max_=70, interval=20,\n",
    "            axislabel_opts=opts.LabelOpts(formatter=\"{value} %\"),  ) )\n",
    "    .set_global_opts(\n",
    "        tooltip_opts=opts.TooltipOpts(is_show=True, trigger=\"axis\", axis_pointer_type=\"cross\"   ),\n",
    "        xaxis_opts=opts.AxisOpts( type_=\"category\",axispointer_opts=opts.AxisPointerOpts(is_show=True, type_=\"shadow\"),  ),\n",
    "        yaxis_opts=opts.AxisOpts( name=\"健身俱乐部数量\", type_=\"value\", min_=1000,  max_=7000,  interval=1000,\n",
    "axislabel_opts=opts.LabelOpts(formatter=\"{value} \"),\n",
    "            axistick_opts=opts.AxisTickOpts(is_show=True), splitline_opts=opts.SplitLineOpts(is_show=True),  ), ))\n",
    "line = ( Line().add_xaxis(xaxis_data=x_data).add_yaxis( series_name=\"增长率\", yaxis_index=1,\n",
    "    y_axis=[0, -0.34, 3.11,4.12, 8.38, 12.85,36.36, 50.02,66.13],label_opts=opts.LabelOpts(is_show=False), ))\n",
    "bar.overlap(line).render_notebook()"
   ]
  },
  {
   "cell_type": "markdown",
   "metadata": {},
   "source": [
    "```python\n",
    "数据来源于中商情报网。通过近九年的健身俱乐部数量和增长率可以看出，随着社会的不断发展，健身成为生活中必不可少的一部分。\n",
    "健身俱乐部数量的增加一定程度说明健身人群在不断增加。那么，大家的健身目的又是什么呢？```"
   ]
  },
  {
   "cell_type": "markdown",
   "metadata": {},
   "source": [
    "#### 2.对健身人群性别比例进行分析"
   ]
  },
  {
   "cell_type": "code",
   "execution_count": 64,
   "metadata": {},
   "outputs": [
    {
     "data": {
      "text/html": [
       "\n",
       "<script>\n",
       "    require.config({\n",
       "        paths: {\n",
       "            'echarts':'https://assets.pyecharts.org/assets/echarts.min'\n",
       "        }\n",
       "    });\n",
       "</script>\n",
       "\n",
       "        <div id=\"19b01517f7284779983f05f606458394\" style=\"width:900px; height:500px;\"></div>\n",
       "\n",
       "<script>\n",
       "        require(['echarts'], function(echarts) {\n",
       "                var chart_19b01517f7284779983f05f606458394 = echarts.init(\n",
       "                    document.getElementById('19b01517f7284779983f05f606458394'), 'white', {renderer: 'canvas'});\n",
       "                var option_19b01517f7284779983f05f606458394 = {\n",
       "    \"animation\": true,\n",
       "    \"animationThreshold\": 2000,\n",
       "    \"animationDuration\": 1000,\n",
       "    \"animationEasing\": \"cubicOut\",\n",
       "    \"animationDelay\": 0,\n",
       "    \"animationDurationUpdate\": 300,\n",
       "    \"animationEasingUpdate\": \"cubicOut\",\n",
       "    \"animationDelayUpdate\": 0,\n",
       "    \"color\": [\n",
       "        \"#c23531\",\n",
       "        \"#2f4554\",\n",
       "        \"#61a0a8\",\n",
       "        \"#d48265\",\n",
       "        \"#749f83\",\n",
       "        \"#ca8622\",\n",
       "        \"#bda29a\",\n",
       "        \"#6e7074\",\n",
       "        \"#546570\",\n",
       "        \"#c4ccd3\",\n",
       "        \"#f05b72\",\n",
       "        \"#ef5b9c\",\n",
       "        \"#f47920\",\n",
       "        \"#905a3d\",\n",
       "        \"#fab27b\",\n",
       "        \"#2a5caa\",\n",
       "        \"#444693\",\n",
       "        \"#726930\",\n",
       "        \"#b2d235\",\n",
       "        \"#6d8346\",\n",
       "        \"#ac6767\",\n",
       "        \"#1d953f\",\n",
       "        \"#6950a1\",\n",
       "        \"#918597\"\n",
       "    ],\n",
       "    \"series\": [\n",
       "        {\n",
       "            \"type\": \"pie\",\n",
       "            \"clockwise\": true,\n",
       "            \"data\": [\n",
       "                {\n",
       "                    \"name\": \"\\u5973\\u6027\\u5360\\u6bd4\",\n",
       "                    \"value\": 29\n",
       "                },\n",
       "                {\n",
       "                    \"name\": \"\\u5176\\u4ed6\",\n",
       "                    \"value\": 71\n",
       "                }\n",
       "            ],\n",
       "            \"radius\": [\n",
       "                60,\n",
       "                80\n",
       "            ],\n",
       "            \"center\": [\n",
       "                \"20%\",\n",
       "                \"30%\"\n",
       "            ],\n",
       "            \"label\": {\n",
       "                \"show\": true,\n",
       "                \"position\": \"center\",\n",
       "                \"margin\": 8,\n",
       "                \"formatter\":  function(params) {if(params.name == '\\u5176\\u4ed6')return '\\n\\n\\n' + params.name + ' : ' + params.value + '%';return params.name + ' : ' + params.value + '%'; }\n",
       "            }\n",
       "        },\n",
       "        {\n",
       "            \"type\": \"pie\",\n",
       "            \"clockwise\": true,\n",
       "            \"data\": [\n",
       "                {\n",
       "                    \"name\": \"\\u7537\\u6027\\u5360\\u6bd4\",\n",
       "                    \"value\": 71\n",
       "                },\n",
       "                {\n",
       "                    \"name\": \"\\u5176\\u4ed6\",\n",
       "                    \"value\": 29\n",
       "                }\n",
       "            ],\n",
       "            \"radius\": [\n",
       "                60,\n",
       "                80\n",
       "            ],\n",
       "            \"center\": [\n",
       "                \"55%\",\n",
       "                \"30%\"\n",
       "            ],\n",
       "            \"label\": {\n",
       "                \"show\": true,\n",
       "                \"position\": \"center\",\n",
       "                \"margin\": 8,\n",
       "                \"formatter\":  function(params) {if(params.name == '\\u5176\\u4ed6')return '\\n\\n\\n' + params.name + ' : ' + params.value + '%';return params.name + ' : ' + params.value + '%'; }\n",
       "            }\n",
       "        }\n",
       "    ],\n",
       "    \"legend\": [\n",
       "        {\n",
       "            \"data\": [\n",
       "                \"\\u5973\\u6027\\u5360\\u6bd4\",\n",
       "                \"\\u5176\\u4ed6\",\n",
       "                \"\\u7537\\u6027\\u5360\\u6bd4\"\n",
       "            ],\n",
       "            \"selected\": {},\n",
       "            \"type\": \"scroll\",\n",
       "            \"show\": true,\n",
       "            \"left\": \"80%\",\n",
       "            \"top\": \"20%\",\n",
       "            \"orient\": \"vertical\",\n",
       "            \"padding\": 5,\n",
       "            \"itemGap\": 10,\n",
       "            \"itemWidth\": 25,\n",
       "            \"itemHeight\": 14\n",
       "        }\n",
       "    ],\n",
       "    \"tooltip\": {\n",
       "        \"show\": true,\n",
       "        \"trigger\": \"item\",\n",
       "        \"triggerOn\": \"mousemove|click\",\n",
       "        \"axisPointer\": {\n",
       "            \"type\": \"line\"\n",
       "        },\n",
       "        \"textStyle\": {\n",
       "            \"fontSize\": 14\n",
       "        },\n",
       "        \"borderWidth\": 0\n",
       "    },\n",
       "    \"title\": [\n",
       "        {\n",
       "            \"text\": \"\\u4e3a\\u4e86\\u8eab\\u6750\\uff0c\\u7537\\u4eba\\u5c45\\u7136\\u6bd4\\u5973\\u4eba\\u8fd8\\u62fc\\uff01\",\n",
       "            \"padding\": 5,\n",
       "            \"itemGap\": 10\n",
       "        }\n",
       "    ]\n",
       "};\n",
       "                chart_19b01517f7284779983f05f606458394.setOption(option_19b01517f7284779983f05f606458394);\n",
       "        });\n",
       "    </script>\n"
      ],
      "text/plain": [
       "<pyecharts.render.display.HTML at 0x297101b4208>"
      ]
     },
     "execution_count": 64,
     "metadata": {},
     "output_type": "execute_result"
    }
   ],
   "source": [
    "#pyecharts完成数据可视化展示\n",
    "from pyecharts import options as opts\n",
    "from pyecharts.charts import Pie\n",
    "from pyecharts.commons.utils import JsCode\n",
    "fn = \"\"\" function(params) {if(params.name == '其他')return '\\\\n\\\\n\\\\n' + params.name + ' : ' + params.value + '%';\n",
    "return params.name + ' : ' + params.value + '%'; }\"\"\"\n",
    "def new_label_opts(): return opts.LabelOpts(formatter=JsCode(fn), position=\"center\")\n",
    "c = ( Pie().add(\"\",[list(z) for z in zip([\"女性占比\", \"其他\"], [29, 71])],center=[\"20%\", \"30%\"],radius=[60, 80],\n",
    "                label_opts=new_label_opts(), ).add(\"\",[list(z) for z in zip([\"男性占比\", \"其他\"], [71, 29])],center=[\"55%\", \"30%\"],\n",
    " radius=[60, 80],label_opts=new_label_opts(),).set_global_opts(title_opts=opts.TitleOpts(title=\"为了身材，男人居然比女人还拼！\"),\n",
    "    legend_opts=opts.LegendOpts(type_=\"scroll\", pos_top=\"20%\", pos_left=\"80%\", orient=\"vertical\"),).render_notebook())\n",
    "c"
   ]
  },
  {
   "cell_type": "code",
   "execution_count": 66,
   "metadata": {},
   "outputs": [
    {
     "data": {
      "text/plain": [
       "女    794\n",
       "男    206\n",
       "Name: 关心减肥的人群性别, dtype: int64"
      ]
     },
     "execution_count": 66,
     "metadata": {},
     "output_type": "execute_result"
    }
   ],
   "source": [
    "#关心减肥的人群性别\n",
    "df3.关心减肥的人群性别.value_counts()"
   ]
  },
  {
   "cell_type": "code",
   "execution_count": 67,
   "metadata": {},
   "outputs": [
    {
     "data": {
      "text/plain": [
       "男    710\n",
       "女    290\n",
       "Name: 健身人群性别, dtype: int64"
      ]
     },
     "execution_count": 67,
     "metadata": {},
     "output_type": "execute_result"
    }
   ],
   "source": [
    "#健身人群性别\n",
    "df4.健身人群性别.value_counts()"
   ]
  },
  {
   "cell_type": "markdown",
   "metadata": {},
   "source": [
    "```python\n",
    "就男女健身比例来看，结果也让人颇为意外。上面分析过减肥人群中女性占比79%，男性占比21%，\n",
    "而此图显示，健身人群中女性占比仅29%，男性则高达71%，可以说是截然相反。\n",
    "这或许与男女双方在健身层面的倾向性有关，一般来说，健身强度普遍较高，男性在体力方面的承受度或许更强一些；\n",
    "另一方面，不少女性会选择通过控制饮食的方式来保持身材。```"
   ]
  },
  {
   "cell_type": "markdown",
   "metadata": {},
   "source": [
    "#### 3.对运动人群的运动目的进行分析"
   ]
  },
  {
   "cell_type": "code",
   "execution_count": 68,
   "metadata": {},
   "outputs": [
    {
     "data": {
      "text/plain": [
       "运动健身    879\n",
       "健康管理     92\n",
       "减肥瘦身     29\n",
       "Name: 运动目的, dtype: int64"
      ]
     },
     "execution_count": 68,
     "metadata": {},
     "output_type": "execute_result"
    }
   ],
   "source": [
    "#3对运动人群的运动目的进行整理分析\n",
    "df4.运动目的.value_counts()"
   ]
  },
  {
   "cell_type": "code",
   "execution_count": 70,
   "metadata": {},
   "outputs": [
    {
     "data": {
      "text/plain": [
       "Text(0.5, 1.0, '减肥占总目的的百分百(单位：%)')"
      ]
     },
     "execution_count": 70,
     "metadata": {},
     "output_type": "execute_result"
    },
    {
     "data": {
      "image/png": "[encoded data removed]",
      "text/plain": [
       "<Figure size 432x288 with 1 Axes>"
      ]
     },
     "metadata": {
      "needs_background": "light"
     },
     "output_type": "display_data"
    }
   ],
   "source": [
    "x = ['运动健身', '健康管理', '减肥瘦身']\n",
    "y = [87.9, 9.2, 2.9]\n",
    "# 用Seaborn画条形图\n",
    "sns.barplot(x, y)\n",
    "plt.title('减肥占总目的的百分百(单位：%)')"
   ]
  },
  {
   "cell_type": "markdown",
   "metadata": {},
   "source": [
    "```python\n",
    "由此可以看出，运动人群中，为了减肥瘦身的仅占2.9%。\n",
    "而上面我们分析过，导致减肥失败的原因很大一部分是与运动相关，太懒了不想动什么的。\n",
    "所以，减肥人群靠运动消耗能量的人这么少，仅靠摄入能量低是不可取的。要在控制饮食的同时加强锻炼消耗。````"
   ]
  },
  {
   "cell_type": "markdown",
   "metadata": {},
   "source": [
    "#### 4.对女性最喜欢的运动方式进行分析展示"
   ]
  },
  {
   "cell_type": "code",
   "execution_count": 71,
   "metadata": {},
   "outputs": [
    {
     "data": {
      "text/plain": [
       "瑜伽      130\n",
       "搏击操      90\n",
       "踏板操      55\n",
       "拉丁舞      14\n",
       "拉丁舞       1\n",
       "Name: 运动方式, dtype: int64"
      ]
     },
     "execution_count": 71,
     "metadata": {},
     "output_type": "execute_result"
    }
   ],
   "source": [
    "#4对女性最喜欢的运动方式进行整理分析\n",
    "dg=df4.loc[df4['健身人群性别']=='女']\n",
    "dg['运动方式'].value_counts()"
   ]
  },
  {
   "cell_type": "code",
   "execution_count": 72,
   "metadata": {},
   "outputs": [
    {
     "data": {
      "text/plain": [
       "Text(0.5, 1.0, '女性最爱的运动排行榜')"
      ]
     },
     "execution_count": 72,
     "metadata": {},
     "output_type": "execute_result"
    },
    {
     "data": {
      "image/png": "[encoded data removed]",
      "text/plain": [
       "<Figure size 432x288 with 1 Axes>"
      ]
     },
     "metadata": {
      "needs_background": "light"
     },
     "output_type": "display_data"
    }
   ],
   "source": [
    "x = ['瑜伽','搏击操','踏板操','拉丁舞']\n",
    "y = [130,90,55,15]\n",
    "# 用Matplotlib画条形图\n",
    "plt.bar(x,y,fc='steelblue')\n",
    "plt.title('女性最爱的运动排行榜')"
   ]
  },
  {
   "cell_type": "markdown",
   "metadata": {},
   "source": [
    "```python\n",
    "由上图可以看出，女性最爱的运动是瑜伽，\n",
    "其实这并不令人意外，现在各种健身房都有开设瑜伽班，也有专门的瑜伽俱乐部，里面几乎全是女性。\n",
    "瑜伽在锻炼消耗的同时还能美体养生，提升气质，对女性来讲确实是不错的选择。```"
   ]
  },
  {
   "cell_type": "markdown",
   "metadata": {},
   "source": [
    "#### 5展示运动方式能量消耗排名"
   ]
  },
  {
   "cell_type": "code",
   "execution_count": 73,
   "metadata": {},
   "outputs": [
    {
     "data": {
      "text/html": [
       "\n",
       "<script>\n",
       "    require.config({\n",
       "        paths: {\n",
       "            'echarts':'https://assets.pyecharts.org/assets/echarts.min'\n",
       "        }\n",
       "    });\n",
       "</script>\n",
       "\n",
       "        <div id=\"e3886982294a4873853889c141ea0278\" style=\"width:900px; height:500px;\"></div>\n",
       "\n",
       "<script>\n",
       "        require(['echarts'], function(echarts) {\n",
       "                var chart_e3886982294a4873853889c141ea0278 = echarts.init(\n",
       "                    document.getElementById('e3886982294a4873853889c141ea0278'), 'white', {renderer: 'canvas'});\n",
       "                var option_e3886982294a4873853889c141ea0278 = {\n",
       "    \"animation\": true,\n",
       "    \"animationThreshold\": 2000,\n",
       "    \"animationDuration\": 1000,\n",
       "    \"animationEasing\": \"cubicOut\",\n",
       "    \"animationDelay\": 0,\n",
       "    \"animationDurationUpdate\": 300,\n",
       "    \"animationEasingUpdate\": \"cubicOut\",\n",
       "    \"animationDelayUpdate\": 0,\n",
       "    \"color\": [\n",
       "        \"#c23531\",\n",
       "        \"#2f4554\",\n",
       "        \"#61a0a8\",\n",
       "        \"#d48265\",\n",
       "        \"#749f83\",\n",
       "        \"#ca8622\",\n",
       "        \"#bda29a\",\n",
       "        \"#6e7074\",\n",
       "        \"#546570\",\n",
       "        \"#c4ccd3\",\n",
       "        \"#f05b72\",\n",
       "        \"#ef5b9c\",\n",
       "        \"#f47920\",\n",
       "        \"#905a3d\",\n",
       "        \"#fab27b\",\n",
       "        \"#2a5caa\",\n",
       "        \"#444693\",\n",
       "        \"#726930\",\n",
       "        \"#b2d235\",\n",
       "        \"#6d8346\",\n",
       "        \"#ac6767\",\n",
       "        \"#1d953f\",\n",
       "        \"#6950a1\",\n",
       "        \"#918597\"\n",
       "    ],\n",
       "    \"series\": [\n",
       "        {\n",
       "            \"type\": \"bar\",\n",
       "            \"barCategoryGap\": \"20%\",\n",
       "            \"label\": {\n",
       "                \"show\": false,\n",
       "                \"position\": \"top\",\n",
       "                \"margin\": 8\n",
       "            },\n",
       "            \"encode\": {\n",
       "                \"x\": \"amount\",\n",
       "                \"y\": \"\\u8fd0\\u52a8\"\n",
       "            }\n",
       "        }\n",
       "    ],\n",
       "    \"legend\": [\n",
       "        {\n",
       "            \"data\": [\n",
       "                \"\"\n",
       "            ],\n",
       "            \"selected\": {\n",
       "                \"\": true\n",
       "            },\n",
       "            \"show\": true,\n",
       "            \"padding\": 5,\n",
       "            \"itemGap\": 10,\n",
       "            \"itemWidth\": 25,\n",
       "            \"itemHeight\": 14\n",
       "        }\n",
       "    ],\n",
       "    \"tooltip\": {\n",
       "        \"show\": true,\n",
       "        \"trigger\": \"item\",\n",
       "        \"triggerOn\": \"mousemove|click\",\n",
       "        \"axisPointer\": {\n",
       "            \"type\": \"line\"\n",
       "        },\n",
       "        \"textStyle\": {\n",
       "            \"fontSize\": 14\n",
       "        },\n",
       "        \"borderWidth\": 0\n",
       "    },\n",
       "    \"xAxis\": [\n",
       "        {\n",
       "            \"name\": \"amount\",\n",
       "            \"show\": true,\n",
       "            \"scale\": false,\n",
       "            \"nameLocation\": \"end\",\n",
       "            \"nameGap\": 15,\n",
       "            \"gridIndex\": 0,\n",
       "            \"inverse\": false,\n",
       "            \"offset\": 0,\n",
       "            \"splitNumber\": 5,\n",
       "            \"minInterval\": 0,\n",
       "            \"splitLine\": {\n",
       "                \"show\": false,\n",
       "                \"lineStyle\": {\n",
       "                    \"show\": true,\n",
       "                    \"width\": 1,\n",
       "                    \"opacity\": 1,\n",
       "                    \"curveness\": 0,\n",
       "                    \"type\": \"solid\"\n",
       "                }\n",
       "            }\n",
       "        }\n",
       "    ],\n",
       "    \"yAxis\": [\n",
       "        {\n",
       "            \"type\": \"category\",\n",
       "            \"show\": true,\n",
       "            \"scale\": false,\n",
       "            \"nameLocation\": \"end\",\n",
       "            \"nameGap\": 15,\n",
       "            \"gridIndex\": 0,\n",
       "            \"inverse\": false,\n",
       "            \"offset\": 0,\n",
       "            \"splitNumber\": 5,\n",
       "            \"minInterval\": 0,\n",
       "            \"splitLine\": {\n",
       "                \"show\": false,\n",
       "                \"lineStyle\": {\n",
       "                    \"show\": true,\n",
       "                    \"width\": 1,\n",
       "                    \"opacity\": 1,\n",
       "                    \"curveness\": 0,\n",
       "                    \"type\": \"solid\"\n",
       "                }\n",
       "            }\n",
       "        }\n",
       "    ],\n",
       "    \"dataset\": {\n",
       "        \"source\": [\n",
       "            [\n",
       "                \"score\",\n",
       "                \"amount\",\n",
       "                \"\\u8fd0\\u52a8\"\n",
       "            ],\n",
       "            [\n",
       "                \"\\u6e38\\u6cf3\",\n",
       "                175,\n",
       "                \"\\u6e38\\u6cf3\"\n",
       "            ],\n",
       "            [\n",
       "                \"\\u6ed1\\u6c34\",\n",
       "                240,\n",
       "                \"\\u6ed1\\u6c34\"\n",
       "            ],\n",
       "            [\n",
       "                \"\\u7bee\\u7403\",\n",
       "                250,\n",
       "                \"\\u7bee\\u7403\"\n",
       "            ],\n",
       "            [\n",
       "                \"\\u6162\\u8dd1\",\n",
       "                300,\n",
       "                \"\\u6162\\u8dd1\"\n",
       "            ],\n",
       "            [\n",
       "                \"\\u58c1\\u7403\",\n",
       "                300,\n",
       "                \"\\u58c1\\u7403\"\n",
       "            ],\n",
       "            [\n",
       "                \"\\u81ea\\u884c\\u8f66\",\n",
       "                330,\n",
       "                \"\\u81ea\\u884c\\u8f66\"\n",
       "            ],\n",
       "            [\n",
       "                \"\\u8df3\\u7ef3\",\n",
       "                400,\n",
       "                \"\\u8df3\\u7ef3\"\n",
       "            ],\n",
       "            [\n",
       "                \"\\u7530\\u5f84\",\n",
       "                450,\n",
       "                \"\\u7530\\u5f84\"\n",
       "            ]\n",
       "        ]\n",
       "    },\n",
       "    \"title\": [\n",
       "        {\n",
       "            \"text\": \"\\u8fd0\\u52a8\\u65b9\\u5f0f\\u6d88\\u8017\\u6392\\u540d\\u699c\",\n",
       "            \"padding\": 5,\n",
       "            \"itemGap\": 10\n",
       "        }\n",
       "    ],\n",
       "    \"visualMap\": {\n",
       "        \"show\": true,\n",
       "        \"type\": \"continuous\",\n",
       "        \"min\": 10,\n",
       "        \"max\": 500,\n",
       "        \"inRange\": {\n",
       "            \"color\": [\n",
       "                \"brown\"\n",
       "            ]\n",
       "        },\n",
       "        \"calculable\": true,\n",
       "        \"inverse\": false,\n",
       "        \"splitNumber\": 5,\n",
       "        \"dimension\": 0,\n",
       "        \"orient\": \"horizontal\",\n",
       "        \"left\": \"center\",\n",
       "        \"showLabel\": true,\n",
       "        \"itemWidth\": 20,\n",
       "        \"itemHeight\": 140,\n",
       "        \"borderWidth\": 0\n",
       "    }\n",
       "};\n",
       "                chart_e3886982294a4873853889c141ea0278.setOption(option_e3886982294a4873853889c141ea0278);\n",
       "        });\n",
       "    </script>\n"
      ],
      "text/plain": [
       "<pyecharts.render.display.HTML at 0x297102ef0c8>"
      ]
     },
     "execution_count": 73,
     "metadata": {},
     "output_type": "execute_result"
    }
   ],
   "source": [
    "#5展示运动方式能量消耗排名，用pyecharts作图\n",
    "from pyecharts import options as opts\n",
    "from pyecharts.charts import Bar\n",
    "c = (\n",
    "    Bar()\n",
    "    .add_dataset(\n",
    "        source=[\n",
    "            [\"score\", \"amount\", \"运动\"],\n",
    "             [\"游泳\", 175, \"游泳\"],\n",
    "            [\"滑水\", 240, \"滑水\"],\n",
    "            [\"篮球\", 250, \"篮球\"],\n",
    "            [\"慢跑\", 300, \"慢跑\"],\n",
    "            [\"壁球\", 300, \"壁球\"],\n",
    "            [\"自行车\", 330, \"自行车\"],\n",
    "            [\"跳绳\", 400, \"跳绳\"],\n",
    "            [\"田径\", 450, \"田径\"],      ]\n",
    "    )\n",
    "    .add_yaxis(\n",
    "        series_name=\"\",\n",
    "        yaxis_data=[],\n",
    "        encode={\"x\": \"amount\", \"y\": \"运动\"},\n",
    "        label_opts=opts.LabelOpts(is_show=False),\n",
    "    )\n",
    "    .set_global_opts(\n",
    "        title_opts=opts.TitleOpts(title=\"运动方式消耗排名榜\"),\n",
    "        xaxis_opts=opts.AxisOpts(name=\"amount\"),\n",
    "        yaxis_opts=opts.AxisOpts(type_=\"category\"),\n",
    "        visualmap_opts=opts.VisualMapOpts(\n",
    "            orient=\"horizontal\",\n",
    "            pos_left=\"center\",\n",
    "            min_=10,\n",
    "            max_=500,\n",
    "           \n",
    "            dimension=0,\n",
    "            range_color=[\"brown\"],\n",
    "        ),\n",
    "    )\n",
    "    .render_notebook()\n",
    ")\n",
    "c"
   ]
  },
  {
   "cell_type": "markdown",
   "metadata": {},
   "source": [
    "```python\n",
    "横坐标为每小时消耗的卡路里。通过网上现有的数据我们进行筛选整理，我们选出消耗热量最多的8种运动方式。\n",
    "减肥人群可以按照自己的能量消耗需求选择对应的运动方式。```"
   ]
  },
  {
   "cell_type": "markdown",
   "metadata": {
    "collapsed": true
   },
   "source": [
    "## 总结"
   ]
  },
  {
   "cell_type": "markdown",
   "metadata": {},
   "source": [
    "通过对全国各省肥胖率进行分析，我们得知北方肥胖率总体高于南方。针对减肥人群饮食方面，男女比例，运动方面等相关数据进行分析，分别展示了减肥人群年龄分布，食物能量摄入，最喜欢的食物，对比男女减肥目的，运动方式等数据结果，相信大家对减肥这件事有了一定的了解。如果你正在减肥，可以参考以上分析中的结论进行合理计划安排。"
   ]
  },
  {
   "cell_type": "markdown",
   "metadata": {},
   "source": [
    "### 4 我的心得与体会\n"
   ]
  },
  {
   "cell_type": "code",
   "execution_count": null,
   "metadata": {},
   "outputs": [],
   "source": []
  },
  {
   "cell_type": "code",
   "execution_count": null,
   "metadata": {},
   "outputs": [],
   "source": []
  }
 ],
 "metadata": {
  "kernelspec": {
   "display_name": "Python 3",
   "language": "python",
   "name": "python3"
  },
  "language_info": {
   "codemirror_mode": {
    "name": "ipython",
    "version": 3
   },
   "file_extension": ".py",
   "mimetype": "text/x-python",
   "name": "python",
   "nbconvert_exporter": "python",
   "pygments_lexer": "ipython3",
   "version": "3.7.6"
  },
  "toc": {
   "base_numbering": 1,
   "nav_menu": {},
   "number_sections": true,
   "sideBar": true,
   "skip_h1_title": false,
   "title_cell": "Table of Contents",
   "title_sidebar": "Contents",
   "toc_cell": false,
   "toc_position": {
    "height": "723px",
    "left": "363px",
    "top": "54px",
    "width": "384px"
   },
   "toc_section_display": true,
   "toc_window_display": false
  }
 },
 "nbformat": 4,
 "nbformat_minor": 2
}
